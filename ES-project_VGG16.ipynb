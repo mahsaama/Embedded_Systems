{
  "cells": [
    {
      "cell_type": "markdown",
      "metadata": {
        "id": "MWkAsEPzl5au"
      },
      "source": [
        "# Load Cifar10 Dataset "
      ]
    },
    {
      "cell_type": "code",
      "execution_count": null,
      "metadata": {
        "id": "iB756PuuhcNF"
      },
      "outputs": [],
      "source": [
        "import torch\n",
        "import torch.nn as nn\n",
        "import torch.optim as optim\n",
        "import torch.nn.functional as F\n",
        "from torch.autograd import Variable\n",
        "import torchvision\n",
        "import torchvision.transforms as transforms\n",
        "from torch.utils.data.sampler import SubsetRandomSampler"
      ]
    },
    {
      "cell_type": "code",
      "execution_count": null,
      "metadata": {
        "id": "-g4fjnsq-ySq"
      },
      "outputs": [],
      "source": [
        "import math\n",
        "import numpy as np\n",
        "import matplotlib.pyplot as plt\n",
        "import tqdm"
      ]
    },
    {
      "cell_type": "code",
      "execution_count": null,
      "metadata": {
        "id": "n2VXQ4vVIaPW"
      },
      "outputs": [],
      "source": [
        "DEVICE = torch.device(\"cuda:0\" if torch.cuda.is_available() else \"cpu\")"
      ]
    },
    {
      "cell_type": "code",
      "execution_count": null,
      "metadata": {
        "id": "W_xpQ573mMlW"
      },
      "outputs": [],
      "source": [
        "# for VGG16\n",
        "batch_size = 16"
      ]
    },
    {
      "cell_type": "code",
      "execution_count": null,
      "metadata": {
        "colab": {
          "base_uri": "https://localhost:8080/",
          "height": 118
        },
        "id": "NnGzy8ZQuctf",
        "outputId": "3e5a723a-577b-46b6-8795-42ba8dbd949a"
      },
      "outputs": [
        {
          "name": "stdout",
          "output_type": "stream",
          "text": [
            "Downloading https://www.cs.toronto.edu/~kriz/cifar-10-python.tar.gz to ./data/cifar-10-python.tar.gz\n"
          ]
        },
        {
          "data": {
            "application/vnd.jupyter.widget-view+json": {
              "model_id": "6d34ea21ce324b22b47113f259559130",
              "version_major": 2,
              "version_minor": 0
            },
            "text/plain": [
              "  0%|          | 0/170498071 [00:00<?, ?it/s]"
            ]
          },
          "metadata": {},
          "output_type": "display_data"
        },
        {
          "name": "stdout",
          "output_type": "stream",
          "text": [
            "Extracting ./data/cifar-10-python.tar.gz to ./data\n",
            "Files already downloaded and verified\n",
            "Files already downloaded and verified\n"
          ]
        }
      ],
      "source": [
        "transform = transforms.Compose(\n",
        "    [transforms.Resize((224, 224)),\n",
        "     transforms.ToTensor(),\n",
        "     transforms.Normalize((0.5, 0.5, 0.5), (0.5, 0.5, 0.5))])\n",
        "\n",
        "image_size = (32, 32, 3)\n",
        "\n",
        "train_set = torchvision.datasets.CIFAR10(root='./data', train=True,\n",
        "                                        download=True, transform=transform)\n",
        "train_loader = torch.utils.data.DataLoader(train_set, batch_size=batch_size, \n",
        "                                        sampler=SubsetRandomSampler(list(range(50000))[1000:]), num_workers=2)\n",
        "\n",
        "val_set = torchvision.datasets.CIFAR10(root='./data', train=True,\n",
        "                                        download=True, transform=transform)\n",
        "val_loader = torch.utils.data.DataLoader(train_set, batch_size=batch_size, \n",
        "                                        sampler=SubsetRandomSampler(list(range(50000))[:1000]), num_workers=2)\n",
        "\n",
        "test_set = torchvision.datasets.CIFAR10(root='./data', train=False,\n",
        "                                       download=True, transform=transform)\n",
        "test_loader = torch.utils.data.DataLoader(test_set, batch_size=batch_size,\n",
        "                                        sampler=SubsetRandomSampler(list(range(10000))), num_workers=2)"
      ]
    },
    {
      "cell_type": "code",
      "execution_count": null,
      "metadata": {
        "colab": {
          "base_uri": "https://localhost:8080/"
        },
        "id": "i5pO_G98naDQ",
        "outputId": "cd17d1df-b1c9-4a80-87e7-c1c1cbd2b2c1"
      },
      "outputs": [
        {
          "data": {
            "text/plain": [
              "['airplane',\n",
              " 'automobile',\n",
              " 'bird',\n",
              " 'cat',\n",
              " 'deer',\n",
              " 'dog',\n",
              " 'frog',\n",
              " 'horse',\n",
              " 'ship',\n",
              " 'truck']"
            ]
          },
          "execution_count": 12,
          "metadata": {},
          "output_type": "execute_result"
        }
      ],
      "source": [
        "classes = train_set.classes\n",
        "classes"
      ]
    },
    {
      "cell_type": "code",
      "execution_count": null,
      "metadata": {
        "colab": {
          "base_uri": "https://localhost:8080/"
        },
        "id": "AnmDrZNZocH4",
        "outputId": "1d6f3bbd-cea0-494c-bf60-0f6b44f59b87"
      },
      "outputs": [
        {
          "data": {
            "text/plain": [
              "((50000, 32, 32, 3), (10000, 32, 32, 3))"
            ]
          },
          "execution_count": 13,
          "metadata": {},
          "output_type": "execute_result"
        }
      ],
      "source": [
        "train_set.data.shape , test_set.data.shape"
      ]
    },
    {
      "cell_type": "code",
      "execution_count": null,
      "metadata": {
        "colab": {
          "base_uri": "https://localhost:8080/",
          "height": 283
        },
        "id": "-7_LvmlMozRW",
        "outputId": "678b44f5-9a01-4c0f-ca60-59fef3db7c12"
      },
      "outputs": [
        {
          "data": {
            "text/plain": [
              "<matplotlib.image.AxesImage at 0x7f2ad66f3050>"
            ]
          },
          "execution_count": 14,
          "metadata": {},
          "output_type": "execute_result"
        },
        {
          "data": {
            "image/png": "[encoded data removed]",
            "text/plain": [
              "<Figure size 432x288 with 1 Axes>"
            ]
          },
          "metadata": {},
          "output_type": "display_data"
        }
      ],
      "source": [
        "i = 4\n",
        "plt.imshow(train_set.data[i])"
      ]
    },
    {
      "cell_type": "markdown",
      "metadata": {
        "id": "XQLf6I59KSIF"
      },
      "source": [
        "# Custom Activation Function (Clipped ReLU)\n",
        "\n",
        "\n"
      ]
    },
    {
      "cell_type": "markdown",
      "metadata": {
        "id": "9l9PJ3pLbjh-"
      },
      "source": [
        "\\begin{equation*}\n",
        "f(x) = \n",
        "\\begin{cases}\n",
        "x, &\\text{if $0\\leq x \\leq T$} \\\\\n",
        "0, &\\text{otherwise} \\\\\n",
        "\\end{cases}\n",
        "\\end{equation*}"
      ]
    },
    {
      "cell_type": "code",
      "execution_count": null,
      "metadata": {
        "id": "98kDbB5qKRmq"
      },
      "outputs": [],
      "source": [
        "# create a class wrapper from PyTorch nn.Module, so\n",
        "# the function now can be easily used in models\n",
        "class CReLU(nn.Module):\n",
        "    '''\n",
        "    Applies the Clipped Relu (CReLU) function\n",
        "\n",
        "    Shape:\n",
        "        - Input: (N, *) where * means, any number of additional\n",
        "          dimensions\n",
        "        - Output: (N, *), same shape as the input\n",
        "\n",
        "    References:\n",
        "        -  Related paper:\n",
        "        https://arxiv.org/pdf/1606.08415.pdf\n",
        "\n",
        "    Examples:\n",
        "        >>> m = CReLU()\n",
        "        >>> input = torch.randn(2)\n",
        "        >>> output = m(input)\n",
        "\n",
        "    '''\n",
        "    def __init__(self, T):\n",
        "        super().__init__()\n",
        "        self.T = torch.tensor(T)\n",
        "\n",
        "    def forward(self, input):\n",
        "        return torch.min(self.T, torch.max(torch.tensor(0), input))"
      ]
    },
    {
      "cell_type": "markdown",
      "metadata": {
        "id": "muFe_h0AB_z2"
      },
      "source": [
        "# Evaluation Metric (Area Under the Accuracy vs. Normalized Fault Rate Curve (AUC))"
      ]
    },
    {
      "cell_type": "markdown",
      "metadata": {
        "id": "wKj4485nHBSM"
      },
      "source": [
        "![Capture.PNG](data:image/png;base64,iVBORw0KGgoAAAANSUhEUgAAAgMAAAF0CAYAAAC+FDqzAAAAAXNSR0IArs4c6QAAAARnQU1BAACxjwv8YQUAAAAJcEhZcwAAEnQAABJ0Ad5mH3gAAGt4SURBVHhe7b3vbxzHme/LP2De8KVeCBBAEOALA4Yg8AAShIAErgQFwhWNZAVBji9BBQooIcmhHMPUOkeSc2LK50RjxKGyDm2v565NODG967naY9oxnYhOJOeSPtZsNITEq4wtUSFtjUxSJMUd0SNrqPnefnq6Zmqa3T09ZFf3/Hg+QIHN7prq6uruer791K8GMAzDMAxT17AYYBiGYZg6h8UAwzAMw9Q5LAYYhmEYps5hMcAwDMMwdQ6LAYZhGIapc1gMMAzDMEydw2KAYRiGYeocFgMMwzAMU+ewGGAYhmGYOofFAMMwDMPUOSwGGIZhGKbOYTHAMAzDMHUOiwGGYRiGqXNYDDAMwzBMncNigGEYhmHqHBYD6yWTwnwyieR8ChljF8MwDMNUIywGyiaLTPIvGOjeiVBDAxo6o0gaRxiGYRimGmExUA7ZZdwYCeNAcwgNJARYDDAMwzA1AIsBl2RTVzB0bJfuDQi1HsXZM4exmcUAwzAMUwOwGHBJJhZGU8OjOBD+PRJLD4z/WQwwDMMw1Q+LAZc8TP4Vf4zP5jsLshhgGIZhagUWA+uExQDDMAxTK7AYWCcsBhiGYZhagcXAOmExwDAMw9QKLAbWCYsBhmEYplZgMbBOWAwwDMMwtQKLgXWiWgw8//zzJQPDMAzDeAGLgXUStGeAxQDDMAzjFQGJgVWkvriBmVT1LvHDYoBhGIapFQISAzOIdjahIbQDnc9FMDx+HUuZrHGsOmAxwDAMw9QKwYoBMqZGCG07gN6zUYwl5pCuAl3AYoBhGIapFSpGDBRCCE17n0T/0J8xOZ9GpeoCFgMMwzBMrRCQGHiI9HwC48Ov4MT+Vn0lQGth0Iz2I2G8NRoPvH/BwxuDeCxklUcphA4gkkgbv1ALiwGGYRjGKwISAzIZpGbiGB3qR6+TMGjaje6+CN6LTSMVQP+C1UQEe0qJgYY96I/fM36hFhYDDMMwjFdUgBiQcScMQq1deG5wHMkq63ToJSwGGIZhGK+oPDEwHcN7kZ+js3WTpRAoBP++wisRFgMMwzCMV1SAGMgik5pB/MM38FznDhtvQAjNew/iu9tkgdCGcCxlpFF/sBhgGIZhvCI4MZBZxkz8D3ijrxvtTSHJyMthE1o7n8MbH04gmX6IbDqJiQ8jRqdDFgMMwzAM4wUBiYFZjPZutzD+RmjajSPht3BhctZ6zoHsCpITE5hKrRo76g8WAwzDMIxXBCQGrOYZ2IRt+3+Kl9+LYbqKpyn2CxYDDMMwjFcELwZKeQEYS1gMMAzDMF4RkBhYxmT0VUTYC7BuWAwwDMMwXhFcB0KahXBpFsnkHZtJhDJIzd/Wjt/GPAuGNbAYYBiGYbwiIDGQRfrqK9inz+jXiJ0DV7CmK+DqNUT2bM41JbQ+h4uL9dtZ0AoWAwzDMIxXBCQG5jHauy1n6FuOY2TW6st/Fcvjv8B2vXNhEw4OTVXsokVBwGKAYRiG8YpgxEAmhnATGfkQHukbw4qxew0PryGyOzfRUGPPCBaM3QyLAYZhGMY7ghEDySg6jS/+zuiMsdMKadTBzgFMcktBHhYDDMMwjFcEIwaWR9G7yYVn4MEVDOwypiDe2o84i4E8LAYYhmEYrwhGDEju/4bQYzg9+ve1cwxk7iAe+QGadQ9CA0Ldw5gzDjEsBhiGYRjvCKgD4T1MDnwnJwb0sAnb9v0QJ8+EEQ5roe9pdLY1S8e34LHBz/DQ+DXDYoBhGIbxjoDEAJBd/DNOtTZKBt8htJzA6AK3EciwGGAYhmG8IjAxQEMHU4kojrcbcwnYhFDrjzF49S4PKzTBYoBhGIbxigDFQI5s+kvE3ougr6cTe7cZ/Qia2rC/+xn0D11AYumBEZORYTHAMAzDeEXgYoBZHywGGIZhGK9gMVClsBhgGIZhvCJgMfAQ6cW/YzIWQ6xEmJhJcb8BCRYDDMMwjFcEJways7j08lG06osVlQ5N4Rh47cICLAYYhmEYrwhIDKxiYfQEWiyMvl1gMVAMiwGGYRjGK4IRA9lpRLvkSYWcwma0976K9+Jz3EwgwWKAYRiG8YpgxEB+1cIGNB74J4xNLSCdFYsStSEcS2mRVpGKv4R91Ixgu8xx/cJigGEYhvGKYMRAftXCR9Ez8pWx0ywGCDFtcSN29F/GN8ZehsUAwzAM4x0BiwHZ8N/FeN9Obd9O9I3fNfaREyGMJorbMYgpbifIw2KAYRiG8YpgxMD9cfRtMXsG7iHev0fbtwm7Bq4gN+9gBrPDPWgkMdAURoxbCvKwGGAYhmG8IqAOhDcxdGCLZvhDeKRvDCv6zlUsjDyVM/yhPeh97V8RfesMOptDWjz2DJhhMcAwDMN4RTBiAGkkIvtzRr7lZ7i4nFucODs9hIOW8w5wnwEzLAYYhmEYrwhIDGiGP/kujupf/VJTQXYBl8IdCJnFQPOTGE7ygkUyLAYYhmEYrwhMDOhDB2euIBa/jvl0zjOgk7mF8cgJ7NdXMGxG+5FfYjjBSxibYTHAMAzDeEWAYsAnsmks3pw01jj4KyZnljc4k2EGqeRniIt1Eyb/jkVZzPgEiwGGYRjGKwLqQHgLF154El2dXejufR2xpVXjgJesIpU4h1P7WoqbHBo2obXrLC4k7xvx3ELpvYdw1461zRhNHTj+9hWkfHRfsBhgGIZhvCIYMbAwgp5Gw5BufhYX73ltRbNIJ95El94nQTP+nc/gTDiMcN9PjOaHBoTaz2Bs0a0IyeLBjSEcyqf3c7w29A6i77yB/mP7cvMgNGzDkeiUb+snsBhgGIZhvCIYMbA8it5NhhjYchrj9z0WAw8mEemgoYtbsK//EyxmRPpZZJJ/wKn2zfqxjsikMZ9BKe7g4kmaEKkR20+PYbkou2lMD3XnhkTuHMCkCieHBSwGGIZhGK8IqM/AMuL9jxnu9q3oikx46GLP4pv4WeygtLe/gNiKOWGaz+BpbKLjO84i/o2LE6/G0b+VvAL7EUmkjZ0SeU9HN6JJf3wDLAYYhmEYrwiuA2HmC5w/9e28IOjsfw/jolPemnAZiXm3bfwrmBzo0L/ibecmyBtvG+NuJr+wkk184elofAojC/64BlgMMAzDMF4RkBhYRGzgGDr3txnt7aVDUzjmsj3+Foa7qdOgPNWxiYfXENlNfQe24+TFBWOnA9kvMXzkES3+FuwbmECxHFjFwugJtGh5bDwUxS3PPBzOsBhgGIZhvCIgMSBWKLQ2/FbBtRhYvYKBnY3ab+RFkMyI8zehMzpj7HNiFYtjZ9BOsyOG9uB49JrRrLGK1NXXcx0VGzsR+Zvd+byHxQDDMAzjFbUnBvIu/Q4MTOZWPViLWCHRrRjQyN7F1cEfo1WfLnkTWrv78dZrP0Eb/d98CGfHbvk2koBgMcAwDMN4RUBi4CHSS7NIJpMuw23Mp1ya2rwYcOrMl0Is3KbFCWFrf1z7vnfLfcxdfh1HWqgzYU6kNDTuxwufzvs+QyKLAYZhGMYrgutAqIqyxMAm7I5c06SJGzQBM3MBA907EdJERNO3D2J/a27Ogoam7+DUOdF04A1k7EsFhmEYhvGCGhYDTn0Gym0mkPoGhHbh2OAlzGWyyKancXHgqNF04PUQSWdYDDAMwzBeEZAYSCExPIAwzQroKryIfxn/yp0r3pUYEH0WWtA9fMvY58DKf6B/F01U1IbjIzOmvgH3kTz/XK5zYcMe7Zx3jf1qYTHAMAzDeEXtdSB0Y+jzQwv3oD9+z9hpx0Msjz6jT1IUOjiEaUtFsoTxvvX0QVg/LAYYhmEYr6hBMSCaAEJ4NHxJ+25fSzYZRRd9ybuaJEhMYuSUhwyS0W49zqbeUSwbe1XCYoBhGIbxioDEwBwuho+gs7PTJjyOvcaCQg3NhzFw/n9jYiblssd+4Uu+wXI64sJaAo1HhjFbdDiLTOoObi+lpXM9wMzQIT0va+MLUoj379UFCHsGqhnt/i/dzC1PPTFj3/8js4ipuBYnMe8gUB9gaWoCsdhnmM+vjWGGnrcvMPnJKIajUZwb+Rjxz+aQtouugswyZib/mpvpc6PLcRctFz6Jm4vye6SRSWHecrSQFG4v2V9/qfTzULkmkaB7pMX1rEwz80jo53YRnJ6fDeM0GquMkVcC7b4kE/SsavmOf4Zkyd/Ly7hP4LN5u/tgIN83N+mXnR/GCyq0A6G8oFAIzUeimLatUC1Y+RTh7TTx0BbsC3+sd/bL8QCL8YixmuHa9v2HNwbxGHkMQgekaYeltQ5C38ap81+YDIDUuZD7DFQ3DxIYPNis3UftXtvOU5HFvYvPYjPFcVqY6v44+rZQOtZNUdnUdYwOHEN7kzRMVQ/rXWK7XO4jOfYKusWIGCOEWg+j/8KXDiLHCi2t8dfRu9e8XHgLOgYuI1eK32gi/Ptrl/9eE9rQN76k/6KAm/QNMrcwlu/UK4JWhxx4cYNlSmuaPJVbkMxNULIaq8HKGPoeMT83hWD/0WIiexeJ4TC6TM+A3kl6yGpJdqqX/2KMqJLiNzyKA+E/IWmuo7PLuDFyFkfaxTtlBLsl38vOD+MlFSoGiKxWN0fQob/UO3B8dFbb45YM5i6cNjr1hdDU1onevudxsnu3Mf3xZrSf/hiLpgQzsbBx3NTfIDuPsdN7jRdgE7bt/wn69I6N/wMnf/wYtunn0dJ89k+Y8+mBZTHgNYVppXOVkN101vcxNfg9PY5Tk1B2ahAdlI5FU1Q2NYFI11bjPNrztPew9nz+HL0/2Gc8S5pR7h7GnBHfe6QZNZsfR98b/wvnR3+Pt39zLDeJVmgvTo+5nTtjBTeGjqKZ8tz6fZwZfB8XL13C+Oj/wmD/cXy//xPDWGvnHP8Njlh6Ail8F226MNqriSe546/b9DWyt3HhWVrvhIx/H946P4bY+B/wVt/jud+XtWy5mfuYHv45uuQ856dTb0bb/ieka+nCkRcuqKsLjLVQQtv24gk5P3r4Pp4cvFIskCzJYmX8eTxC9ePeXgzQkuzRf8MbZ75vCKltODo8U/QMZOf+hGf1DzTN+Pf9FufHP8X4+d+i78Cj2j5znSrSp/vWiRO/imBo6FU817nDqEfNS76Xnx/GWypYDGhkP8dgBz18mtrtGYGLVQQkrL8mQtsO4uRQXFrWuIC1Z8AgM4t49IW1Kpce3vajCL97xTJNVbAY8Jj8stct2LaNnjm7OSjmMdq7zeE4IXkPdkeQkCOlJzFoCIFQ21MY/ORLyYWtfXktXsE7x/dip90iW14gRseEOhC+tCBVsGlMR3tyhrNDy/eDUs9zQbCH2p/D+XV/eUvCv6hpr5z0s/jm6svYTXF3vYhLy5LRz85i9PgOrczLWba8NA+1vO2me7zpGYwub6B5pVwMMbCx/kma8Z2I4pUPrmGpqN4qrChb3GH6Hq4OfFfbvxm7wp8ULeOeXTiP4zQRW+hxrd4UMkRLPxbBMy9fwIzc9JS/F+ZnrNz8MF5T2WJAdoc1hRFbT9NRNo2l29NIxCeQmJlHytFgU1vjHec2Nz29LzE1eRnxxDSS86kyXarewGLAS+TFpn6Hsd/l+ohsPnlRqwJN5Ne+cFrkKo1EZL+eRnGFndIq1AO5L6PmHkSnbVbMzKwgtZG2e0cKX2yW7mTxzoWewOCNUsZdjKIp13NnRhgas7EuJ33Rb2cLHhv8zCTSCk193hkUqdmgYxBTnqTpEk/EgB1Ss+gjz2NcCLNvLqN/h/bcWz4XouybcHBoqsR9ktJ3JaJs8sN4TkBioNR0xFOY/OT3eK1nV67ipODUPluHsBjwkHwfE+rzsVjogGpVyeeXvz6EoRm7b8yvMNKTc512DH6erxyzt6I4pP+2BYei0yUqTVUIoWJTcedX6NyG3tF5Y6cNQjhssJLOf1k2HkX0llSmZaUvPDY2+RbLjHv2FX9PM4B7tPPZiEaV+CUGZK+WY/kVOm27yVN5HhWb/DCeE5AYKHdoYQiP9I25aAerH1gMeMUD3IoezY0uMZagXp0cwE567racxvj9YiO0Gu/HVptjefLeg53oGxcdSgveAutRLi6gDlYf/S9Eo1GHcA7vxZIO3qoSRjP/lVd6qm5RqbvusGZJBnMjvWjW3vGW4+exIKVTXvolris/t8j+tU2A60Islb4FB4ZuuhJ22VQCH52zumdy+ACxUs0tKsVAdgGXwh16c8DugYlCU1UJMZU38CUNtiYcLv4s1zdnx1nEvylRcnb5YTynOsRA4yEMXmcpIMNiwCOKvAKG4Z4bRje1X69Z3yKTn0/CsYNf/veS9yBvjBqxY739AfJpSO+GRXA0ntkpDB2kd8/cUU8gREspMSC+BjUjfuJ9XIu9j0j4OLqNDnTdx8/iXEzuD2FDvq+GeRRBuekLEWNTvl6LgfxoEaeZTovJG0zH8AiODH/pLC4Mw1zoQKiVR28f+iPva0JixZUwyaM3exoe2anLGOk/pAuz5q7XcTUluWJFM4HNc+NeDBQmaLP8wHObH8ZzKlwMUM/Sn2IofieQdvlK4qO9e0oGplxWcH3wEBqpsjn6LpKiFrWd0rowoZXTfBL5USlb+xE3ImVnhnBAf6Z3aWmu93vuPuYTl3Pjrx2C45wcJY2iEAOlREvBWG9p2qI35wnj9MTebUbz3lZ0DU5qKdqRLXT62/0yrhZ9JZabfhYr8bPYRSKs+QeI5OsM6gc0jUvR53FAH/7rjRjI38/QjzE859JIuZqn4ApmShm9fL+Obdj7hDQnC4Wm7+L0qHn4sx2F/iOFOncTtnU8i+h1c8OH6MhHhjmC+KJozskgNf0poqdzIzacxUAWD24M4ZC+xovc2VBQTn4YrwlIDGSwNBW3eBHkMImpuWA651UiVsbfHJjysO4FTQixalrIKj+6xW7YIVGYpEr2HhSGrTqtpukDnomBwrwBofZnMHRpWuqc+wCLl85iHxnmxh4Mz9pcr2Mv/3Wkn72Lq5Ef5IwShaYdaBOGMrQFTVu8EgMu55rwDRI8f8fYy4dz125paK3JLsXxdr+xBsyZE+g2RkuFWo9iYOxWUf1bPCRW+1D71rcKQ2GbmrCF9juJgcwUokeoKWcL9g1MWIrEcvLDeEtAYoApByvDbxcYt6xoRu9x3dg0dg3iSlEH1gSGe1v1Cq/IA3DvIk5upsrPbkIiYgEXT27X4jRi58AV47eZfPPCukfFeEVeDFhN7kOU20xg03btoiNidu4DHKOvRHPHQZ11pp9dQZKaFPr70Nt9GD0nwxgYGsXElzG8RtftJE5cU5hrovwhzwrJzmD4aM7YrnsIZXYZ199+Mtem33wUQzeKn/Ns+kvE3nsd/X296O7qwcnwyxgancCX8VdL9O9IITHYnXP5HxrCjZLDVg1K5IfxjgDFgBhRcMdmuF8Gqfnb2vF1TK9ZY1gZfbvAuCPvFaBKxiHIlX2+XdRpTYu8sZWNlEdiIHsHsTd/ZazkaR/OjtxwMARuOxCWGiZWwliX7IgoxNjajoM5Npq+CeFad9NprSRu5ppYS3Yxhjct7ldxeAUjU+s1eIVOqhvqXJjvV+K2f4tw79vFL6zsGmo/jQtzZb4AZeeHWQ8BiYEs0ldfybn5ir6gJFa1SnVPbsKhhtbncHHdM4dVP1ZG3ykwpbiLWDg3LKxkkNzAeVe/g0HPT1xV9AVaMGxltTGbyQsNI282wbn3fQkjmv/itvMcCApDvqzH7pcQFd9MYGA3vd92U3hvMP0iRFp2wqNMXM01sRbPOhDa4pEYyIsdt+mIe2E1H4Q0XbvT3BqOlJsfZj0EJAYKN7eh5ThGLN12q1ge/wW26y+Imxe+drEy+G4CY01+vL9D22p+CKE0lCq/L3TEut0/ewsjT1ITgf0wOcc5BjLLmF9y+u4pNT8HhVKeNHmCpdxQSpm8x6TlBEZLrOiZnR3GESpHq7iOoxYKeXCa6XD96ZvI903Y6ORIBvm5Jr6HwakyZl2Ue8rbBjtPqQvy17nB+jIvCN15PuyfmSwy01Ec0YXADxC5end9eSozP8z6CEYM5Htrl5g/QPoSqqi2OZ+xMvRuAmOF8AqU+EpMRtGpG2+pw5kYa00doIoWwNIqvaUEzuvDoLTjVl9AeeNFxw/j5XFpWJwmAqYvvYPTBx6F+6W610+h46RpOuLsEuJn90Ofcrb/PwrvZfYuJt9+Dt3dz+HtSalCzyYxcoz6VmzFoaHPpKaJwtoHoV1nETfPqZD/XQmjVW762VVkVs3nuofpkZ9rca3aqrV0Lr2GY4eO4fkPnJpWinE114QqaK6Jj8eRWDLnVupU2fwkhpOF49nUFbx96ofoPvVvmBQjFbSy/ejsK/ggsWB63rQv+fhLuXRC38XA1UIv/mwmox0tJpu+iZFTtB6E+R5px8RaBqFv49kLt52FwDryw3hLMGIgX9GaemuvQRqCWMczEFoZejeBMZPFg+tv4mAJr4BOXrDKrmBpOmEt5Md5P7E336uahnY9f9Gq4ssinXjTWN1S/r1YoCd3rl7ty1U9hcV/Gpr24Vj/G3jnnTfQf2yf3gyypl03L8rN4l1q7gvtQOdzr2Io+m8Y/NUPjQWP9uNsfMlUFtI6BM29GHFsPy4n/Vy79aPbDuDp8GtavCiiQ6+iz1iczHptAzHmvRz3c6bQ/6MziqSx1zfEvWjaje6TLyJCC/oMvYZwT+7eWa2sWvBKSU0/eXFKC689hXDkLUTfGcRvTnYaCwNtRVdkQlopkMpqdyFu9B0MvdZn9PbfjPZTfzCtWlgo24amNuzX50Mwhy4cjcRzz1PZ+WG8JhgxkP/CKuEZeHAFA7uMNlJpzHa9YWXo3QTGzDJi4V36c1ey7Th7E0MHaDIck2C1XCKXAi09/CuM3Fg2GT8Z7Stn8l9xfM1SvFQBnkDko+v+VXaWy8W2YO/x3yI2ZzKa+V7qVivH3cdc7Lema6KyCGM4YeUWFh0HrVcOXYv79LNzFxA+0JoXa3rQRERX+Bzi5mvSEc2VVusZ2JHSnqHcpDlOc02ogxZg+21e5BTKpBntR15AND67xrOUTb6Lo7qrXvYYZJFJjmOwr9u0jLax8NrwNdOzmMHcxRdxQJ7TQAu0kmQ4elnykgkKCwzJ8YuD9h6evGCIsHLzw3hNMGJA7ggVegynR/++dqayzB3EpTHDapd0rWysDL0Igrf+PKX/tTrGCGg89h0kk7NYKrkQkGift4pL6XyByfycGBNIJMuYEyObxuLNyfX91msyKcwb7dW3l9JFxrUILc937zofz7eHq1i8y3X6cr+KEvdZdGI0udWdKecZUonIR65MHO+dRja9jLt2+ZWegZL3Tr4Pt5dKzzC5HsrJD+MZAXUgvIfJge9I6k/7Mtr3Q5w8Ywyv6XsanW3yUsHlKPfaRDbycjDjdIxhGIHoxGheV59h6pOAxIAmMBf/jFOtNDxHGHyH4KJnc60jG3k5CI8AQdvyMYZhbNDbqJvLmwCHYWqYwMSA3n6aiOI49Ta1EgBGCLX+GIPrHZJSQ8hG3m1gGMYafQKgs29hvNQKgQxTJwQoBnLkpreMoK+ns7DgBvU+7X4G/UMXLIbQ1C9WBt8pMAzDMIwbAhcDTHlYGX27cH/JaQY5hmEYhskRoBjgtQk2gpXxN4dLJ/6bEZthGIZh7AlIDPDaBBvl+eefN7bWEj/zP/OC4G+Dbxh7GYZhGMaagMQAr02wUZzEQCadxvh//VFeEHx16ZJxhGEYhmHWEowY4LUJNoyTGCDuJZN5MUCB/mcYhmEYK4IRA7w2wYYpJQYI8ggIMUCeAvIYMAzDMIyZYMQAr02wYdyIAYL6DAhBQH0JGIZhGMZMMGKA1ybYMG7FAEGjCoQguB59x9jLMAzDMDkC6kDIaxNsFCEGGv79bj7I/8vb5sAdChmGYRiZgMQAr02wUTYiBoSXwC4wDMMw9UVgYoDXJtgYLAYYhmEYrwhQDOTgtQnWRzl9BgRWht8qMAzDMPVF4GKAWR8sBhiGYRivUCoGzC5/VaEe8UIMdPz3UeNI8TGGYRimvqh9S5pNY/HmJGKxmBb+ismZZXix7FE2vYCbk3810p3E1FzKk3Td4oUYkLHbzzAMw9Q+AYuBh0gv/h2TukF1DhMzqTI7EVIHxXM4ta/F5EnYhNaus7iQvG/EK49s6jo+ihzH3qbQ2nSffB9Jn3o6eikGrtxctNzPMAzD1AfBiYHsLC69fBSt+sqFpUNTOFbGl3cW6cSb6Gomg60Z6c5ncEafv+An2G90Ugy1n8FYmSshZlMTiHRtzeWpaR96Tv8Gg+/8GwYHnkdvZzuamsKI+eQe4D4DDMMwjFcEJAZWsTB6Ai2SsS8VyhIDDyYR6dii/W4L9vV/gsWM+FzPIpP8A07pwxm3oCMyCddjFbJzuHiqXftdCM1dr+LSnNmzkEFq6Z5vTQUqxQCvYcAwDFNfBCMGstOIdskzDDqFzWjvfRXvxedcNhNk8U38LHbQb7e/gNiK+VeaEBl5Gpvo+I6ziH/jLtWHNwbxGHkxbJdc9heVYoCmL2ZBwDAMUz8EIwbySxg3oPHAP2FsagHprFihsA3hWEqLtIpU/CXsK9sAr2ByoENLpxE7+i/jG2NvEQsj6Gmk8+9HJOHG6KWRiOzX4m/CroEr7r0JClmPGCCsjL9VYEHAMAxTPwQjBvJLGD+KnpGvjJ1mMUCINQwcDPsabmG4mzoNymmbyC+UtB0nLy4YOx3Ifo7BDmpa6MDApO0ai76yXjHgBBl/eVGjq795yTjCMAzD1DIBiwHZ8N/FeN9Obd9O9I3nptMlMrEwmihuxyCm3Hj0V69gYCeteSCnbUYIjyZ0RmeMfQ7cu4iTm7U8bHoGo8tiuaQMUvO3cXspXeYoB29QIQYIsyCgJZAZhmGY2iYYMXB/HH1bzJ6Be4j379H2ya74DGaHe9BIYsBtT/18E4TTV7wQHi7FgBAvTT/HyORHeKPvR9gnpk7WQmjbQZyIfIyZtH/rKqoSA8S9ZBIX/6/vsSBgGIapEwLqQHgTQweot38Ij/SNIWeyqWPfUznDH9qD3tf+FdG3zqBTHx6o7XPrGciLgW5Ek3bqIYVYuE0//9b+uHZmZx4mIthtGP5c2IRtex9HZ+cT2J9fajmElmPDuJUfuaAWlWKAYEHAMAxTPwQjBvId8jQj2vIzXDRc79npIRy0nHegjD4DZYmBTdgduYZS3/P5porQDnSFo4glVwpNA9l7mB75Odr1fLehb3zJOLAxyNiXCmIVQkJelVAO8jF52xzkY/I2BSEIvrp0ST/GMAzD1BYBiQHNhibfxVH9q19qKsgu4FK4AyGzGGh+EsNJl33482LAqc9Aec0Eq/F+bKV82DZVzGO0d5uWnjtPgxf4KQYosCBgGIapXQITA/rQwZkriMWvY15ua8/cwnjkhDFTYDPaj/wSw4m77jvpuRIDogNhC7qHbxn7HMj3GbATAxktSreWXgNC3cOYM/aqJCgxwIKAYRim9ghQDKjChaHPDy3cg/74PWOnA3PD6NabAeyaHgpioKEziqSxVyUkBlQjiwESALIguDt1w4jFMAzDVDs1KAZEE0AIj4YvwWo5oqz2pd9Fxr3xKYwsuHDqr8bRv5WaNOzEQ6EPRHlrKKwfP8SAGVkQUOdC6mTIMAzDVD81KAYeYnn0mdx0w5bTEacxPdStj1poPDKM2aLDWWRSdyzmDhB9AmxmIMyvhbANvaPzxk61+O0ZEFyPvlPkIXAKDMMwTHVQg2JAY+VThLfTxENbsC/8Mebyw/0eYDEeMVYz3INwrGDkiPz6A6EDpmmKNYFx8We5hZWaf4DIVakPQ+YOLg88kRsSaSk+1BCUGCCsDL9VYBiGYaqD2hQDyGDuwmljuF8ITW2d6O17Hie7d+eGCNLiR6c/xqLJbueHEFr1N8hMIXqEvAPa8VAr9j/9HMJnTqC73ZhnoOkgzsYW3Hd03CAsBhiGYRivqFExQNxHcvx19O6ldQrIwOcCzRZ4ciguLWtcwN4zkCOb+hwjvzqMVl1kiEAjHs5i5Mayb0KAqCQxIGO3n2EYhqlcalgMGGTTWLo9jUR8AomZeaQcZwjM9RmYTzl1AczFSU5NYiIxXXNrE8iUKwbe+vOU5X6GYRimsql9MVCjVINngIcfMgzDVAfBioHsCpITf0I0chbhcNghvIBXLt4K5Au8UvFDDNghG3wK5BEQmI/RCog8SRHDMExlE5gYyKauYOjYrrVTD9sEv8bvVwvV0IFQDjQvwd9HPsD9JW/WbmAYhmG8IyAxsIJE5HHXQoACi4FiqkEMXP3NS5b7aQVEbkJgGIapHIIRA/kZ/YSxp+F/30VnZ6dNOISfRK+XXF2wnghSDBBWRt4cCPIE0ERF8nLIFJzSZhiGYfwlGDEgFv6h0PgEBi7f4a/+Mgmyz8B6yKTTet+B8f/6ozVigJsQGIZhgiUYMbAwgp7GnBjY1DuKZWM3456gPQMbgZoIuAmBYRimcghGDGSnMHSQVha0Wh+AcUM1iwFCTtvchECBRyEwDMP4R0AdCFexMHoiN9d/qAPhS/5N41srVFszgRlZDJibEOTATQgMwzDqCUgMaGTnMXZ6b25EQfNhDJz/BLFYzCZcRmLeajHi+qWWPAMyTk0ItJ+bEBiGYbwnIDGwiNjAMXTubzMWBiodeGhhMdUuBkphNwqBAnkQyJNAHgWGYRhm4wQkBmYQ7cz1GXAbWAwUU6ueATOlmhBIMHATAsMwzMZgMVCl1FKfAbdQEwGNNjCLAgrchMAwDLN+AhIDD5FemkUymXQZbpdYSbD+qBfPgBXkCaBOhdyEwDAM4w3BdSBkNkQ9iwEZMvw0DNEsCrgJgWEYxj0sBqoUIQb+8uU3iH52HwtfP9QDbScWcl4UefuL/1zVt7/OZPVA2xSfoG06bsYrg22F12lzEwLDMMz6qQwxkEkhmZiQhhJO4uZimucecECIgafH7ukGlQw6BdomEUDIxnY98cR+cUzefmMyrcclEUGBtkmYELRNgbATK+a0L88+0PfbiRUKBJ2LjtvBTQgMwzDlE6wYyMwi/nYfDmzbZNFpsAV7eyP4aGqZRYEFVp4BMpjC2BJkkE9fWtG3ZeNNhlc23mSQW9/PTQpN++l/SsNssOVtOZ6IW0pc+B3vhx/c5iYEhmEYFwQnBrK3ceHZb5dexrj5B4hcvcuCwEQQfQZISJABlrftvuSFgXbrGXDraaC/9BtKQ6RjJwbEb7gJgWEYxpmAxIA0HbGb0PocLi6ubdOuZ/wQAyoRhlsYb6/5fDGDC198kxcoRKkmhC8vXuAmBIZh6pKAxMBXGOl51DD2ITTt7cXLwxdwKTaJqekE4pcu4oPB53CgOWTEacGh6DR7BySC8Ax4icq0CbPXwIzTKATyInATAsMw9UQwYiATQ7gp99Uf2vcS4imrr/4sMtNvo8tY6rixZwQLxhGGxUApzE0Ndjg1IcTP/E/cmbxqxGQYhqldghEDySg69S/+zegY/Nzhi38eo73bct6BnQOY5JaCPCwGvEU0IVhNe8xNCAzD1DoBi4EmdEZnjJ1WpBALt+XEQFMYsVzfNUaD+ww449YzYAU1IZBXwCwKuAmBYZhaJRgxcH8cfVtIDDRie/hT5Aa/WZCdwtBBYw2D3REkCn3B6p5q9wyoplSfATfcSya5CYFhmLogGDEgG/nQt3Fq5CbS5raCzB1cHXoKrboHgfsMmOFmAmfMwx03AjUPcBMCwzC1TDBiAA9wK3oUjYah10cUtP8AJ8+EEQ5roe9pdLY1G8coPIIjw1/yaAIJbiZwxksxIMNNCAzD1CIBiQGN9AQG9m2RDL59CO06i/gKSwEZ9gw440UzgRPchMAwTC0RnBigoYPJPyF8QMw3YB1Cbb14J5EyfsMIuM+AM6rFgEAuI7Mo4CYEhmGqhQDFgEFmDpMfDiLcexh7xRoFTW040PMz/GboY0xZzkHAsGegMpCvo1QTAnkTGIZhKpHgxQCzLrjPgDPyOggqsbqOUk0IJBoYhmEqidoXA9k0Fm9OGksj/xWTM8vwzDxkUpjXKv5k8g5SDsvqqoCbCZzxq5nAiVKjEOgYNyEwDFMJ+CAGVpGaGsNwNIpzHyWQ0m2mtm/mimGg3YTLSMyXW6lr50icw6l9LaZ+CJvQ2nUWF5IbNBLZWxh5cns+3aZwzDuR4QJuJnAmSM+AFXZNCBS4CYFhmKBRLwYeXkNkt9EXoGEP+uO0rOwMop3GPAMuQ3nGNot04k106Qsdaca/8xmc0Ycs/gT7jX4JofYzGFv3SohZrMRewPZ152/jcDNBZVDuddDQQzL+VisnchMCwzBBoV4MSIsSNTQ8ip6Rr7SdisXAg0lEOmjY4hbs6/8Ei3kXPo1g+ANOtW/Wj3VEJvHAOFIWIv3GQwj/4nvl588D2DPgTBCjCcqBmgdopAE3ITAMUwn44Bn4DIOPifkEhGfgFoa7ze575+De2GbxTfwsdtDvtr+A2Jr5CVaxMPI0NtHxHWcR/6bctv4MZkeOo0UXExOYjnaXmb+NQ/Puf+t3n+GNyZyxoPn3hdEjIyjc42LiHYpP0F/hNnczGc96DV0lUOliQIbmJOAmBIZhgsSfPgPTn2Lk3DkMf3zD6DPwEOmlWST1znduwm3Mp9ya2hVMDnRoBroRO/ovw3KZmoUR9OhLI+9HJFHm19fKpwhvb0RDywmMLtxHMgAxIAwdLcRD0F9hjMj40bYQBOuNd/jPKX2fCCQ4xOI/ZhEiRIdIy06E0H6BnHY14+V1cBMCwzBB4YMY8BvhdRBNEhbk+zFsx8mL5ax4sILrg4fQ2NCCQ9FpanQIRAyQUf1J/+/yK/LZeQbMxpv+CoNPcciAibi0LYsBYdxUxZODiPfr+Nf6Nl0fXRNt01/yYpy+tLLmemURQnFkEUL/v3oljQ9v5uKpQr4Or+AmBIZh/CYwMZBNL+F2chZLaSd3teFBuL20diEjO1avYGCn9uXe0IZwzG7mQtFnodQSysVkF87jeEsIoX2v4KqeoWDEAKGyz4D4kpcNnTC2ZHjNRpmg+MJgW4kQ8jQQTmKA/tL/hIhHf92IC3M8Of8i31bxCCGSKB7ln7bpL10zxTdfrxAdl2cfrBEhhBAjXsBNCAzD+EFAYqDQZyDUPYw5Y+8a7l3Eyc3kzt+CxwY/06SBC/IdFjswMGm3OPJdjPftLFMM3EUsvEf7zQ4cH51FTpvUphgQCGNKwWus0hYihCBjStv0184oi21hvGURQtv/x8hyPn2KT9v01ywG6O9648nBHM8sQihPcrxSIkSkS4GbEBiGUUlAYkAaTdAZhf23jdt4Enkx0I1o0s48pzTD3qbFCWFrfxylBxhm8eD6mzjY2IDGQ1HcynspWAysF5Vpu4WMs/i7XhEiX4fwhIj9hCwGyhUhchA4NSGQUKAmBF45kWGYcqlgMZBFZuEC+qizHsXb2o94aatdphjYhN2Ra6U9DtlZjB7fgYbQY+iPLxs7CXVigIx9qaAaK2PkFSrTJoSXQBhyVZR7HZQvOxFCeRVCRIgDp7RLNSHcnbphxGQYhnHGPzGQTWL0dDc6Ozu18F20NdGEQJrRbmrDfn2fKexvQxMdF6Fsz4BTn4FymgmyWImfxa5QCC3Hz2OhqO8CewYqFfF1TUa11nFqQrh04r9xEwLDMCXxTwwUTT5UbnAYJmjGlRgQnokWdA/fMvbZkJ1G9FALGkL70T82ZRry+AXikSf0PG45OYIvaN98yhdRwJ4BZ0SnPvrKVonK6yg3bWpCIMPPTQgMw5SLf2JgNY7+rYY3oMwQaj+NC3NuTawLQ58fWigmQXKgXBHTFEbMBzXghxhQSbmGrlzqUQzIUBPB1d+8tEYUUOAmBIZhzPjYZ2AJ8aF+hGmNgPBP0bnN6AuwrRMn9X0WYeBNvPvRBJKOww/NiCaAEB4NX4KVkzibjKIrpJ278SmMLJToiLCawNCPutY2Y+jhCexva9avI7RtL56gfT8aQsJN34YNwp4BZ2qhmcCLMiJPwPXoO0VNCG8fPo4Dr03gZ//8F25CYBhGp4I7EK6Xh1gefSY33bDldMRpTA91o1E73nhkGLNFh7PIpO7g9lLaGDpYCu4zUKlUagfCoJCbEAZ/9JyeXxIEJA64CYFhmIDEQAqJ4QHt6/+XeHnkumaePUZMGUwLFYU/xlxGmPYHWIxHjNUM9yAcK67AH94YxGPkMQgdcDlNMYuB9aIybT9ReR2q0v7q8ym8HzmnewiEt0AEbkJgmPokIDEgeIj04t8xGYshViJMzKRcfq0TGcxdOI12MuwNITS1daK373mc7N5tjFDYjPbTH2PRlGAmFjaOu+hYqFPbYkAlqgydQAzPo+YClai8DlVpi/4UN75c24QgAo9CYJj6IjgxkJ3FpZePolU32KVD+cb2PpLjr6N3b/HqiKFtB3FyKC4ta1ygfM/AKuaGf4yQ68mLvIObCZyphT4DqhBlIyY/4lEIDMMEJAZWsTB6Ai2SkS4V1v3lnU1j6fY0EvEJJGbmkbIQAQVyfQbcr5AYHNxM4Ax7BuwR/SnEjIkyTqMQaD83ITBMbRKMGKCx+125Xvilw2a0976K9+JzZTQT1D7cTFAZqLwOlWmXwmoUggjkQSBPAq+cyDC1QzBiQBq733jgnzA2tYB0VowwEJMFrSIVfwn7yG3fchwjs5X/te4n7Blwxq9mApXXoSptJ8+AmVJNCCQYuAmBYaqfYMRAMopO/av/UfSMfGXsNIsB4h4mB76j7StjBsI6gfsMOFMLYkAV5j4DbqEmAhptYBYFFLgJgWGqm4DFgGz4xWRBO9E3XqhY8z38OwYxxe0EedgzUBmovA5VaYvRBGLBpHIhTwB1KuQmBIapHYIRA/fH0bfF7Bm4h3j/Hm3fJuwauIIH+r4MZod79AmC/Jrmt1rgPgPOcAdCfyDDT8MQzaKAmxAYproIqAPhTQwd2KIZ/hAe6RvDir5zFQsjT+UMf2gPel/7V0TfOoNOfYIg9gzIyAaCDB5tiy89uS2YtoUrWKy/T3GEoRSz89G2cKdTOrRNccR5xLnomDCudJy26SuTAv1fDua0vYbyRmmL66pGVJWRKJtymwmcKLcJwSqeOTAM4x/BiAGkkYjszxn5lp/h4nLOkGSnh3DQct4B7jMgIxuI05dW9G1hqGmb9hFyPBII5njCGMjxyHiKeGK/OCZvy/Hcpkeh9f3lfF7keLJYEaLmw5s5Q05pCKNOadA2iQ8hai7P5vxI4hzE9cUMfh3/GhNzDzbsFnfCfB1eoiptKgtK00sxIHDThGDebxcYhvGPgMSAZviT7+Ko/tUvNRVkF3Ap3IGQWQw0P4nhZK7CZ3LIzQRkFMUXOlX04itdNo5kCMloykZUHJONLRllYWzNxoiMhzAgZKiF8RbGpRwRIuKIeHROq3hEUPHor9i2EitWoobSEOUnyll4YMQ5CDpG2/J9M4sVc9rVhl0TgtvAMIx/BCYG9KGDM1cQi1/HvLwqYeYWxiMnsH8bLTHcjPYjv8Rw4i7PMWCiGjsQykbPnLZsHM1GlLYpEBRHGFvZKBOy8T73+X38l98v48W/fq3/hs4jjsnnpbRom+KsJ56IUyoeUW48OVjF6/jjf+a37cQKQSKNzkdQGrSfwu+ncuUql7PwsjiJFdqm425xakJwCgzD+EeAYoDZCDy00Bmz4XSL2ehRIMzGkQxoKbFCQRhegvLiZLzFMbnMKS3aFnmRr2kj8SgcvpAqGW+j56VmIYKu9ycX7mL8g4/zSyj/4wsf6Eb//3zvTv43LAYYJhgCFAMPkV6aRTJ5x2aK4AxS87e147erYnpgv+Ghhc6Yv2ZVofI6SqUtDDDh9CVPBpsCQfvtPANkkIVRthIrQtTIeVqPaDAvoSzHk8UAhfiZ/6l7Fagfwp3JqzyXAcMoIiAxkEX66iu52QUbGrFz4MraRX5WryGyZ3Ouz0Drc7i4qLZSrzZ4aKEz9SAGKh0hEAhZrHzwD4/rgkAsoSyLFbMYsAvUGZGEAg1f/PLiBV0k8DBGhlk/AYmBeYz2bssZetuphlexPP4LbNc7ETbh4NAU9xuQYM+AM2R4KG3xlVqNqCojv8rGLv9Wxt0qkLG3GpVQKtDvaDgjeROoEyN7EximNMGIgfzaBPI8AxY8vIbIbupI2IDGnhEsGLsZ7jNQCrNrWxXVWEbVIgZkyKCTYScDT4b+/f8xUNTvwE0gYSG8CZQOexMYpkAwYiA/HXETOqMzxk4rxHoFWtydA5jkloI87BmoDFReh6q0g25CsTLUVsEJIWioUyIZdWoqICNPxt5qUaVSgYZAmr0JPKUyU08EIwaWR9G7yYVn4MEVDOzKeQYatvYjzmIgD/cZcKYWPAOq0vZLDDhhZZDNwQnqgyB3frSCDDp1OhTeBBIKVudxCsKbIDoxUpr3kknjDAxTOwQjBiT3f0PoMZwe/TvS5g4BmTuIR36AZt2D0IBQ9zDmjEMMNxOUwi9XeDUSdDNB0FDTgPAmkIHfiDeBfktpiE6M7E1gqpWAOhCKpYlzhp4WJ9q274c4eSaMcFgLfU+js61ZOr4Fjw1+hvJmv69tuJnAGR5NYE8teE1UCRr66hfeBPIGrMebQEH2JlB67E1gKp2AxACQXfwzTrU2SgbfIbScwOgCtxHIcDNBZaDyOlSm7Qcq8++354e++OnLX3RiJGO/nqmWxZBI2ZvAnRiZSiAwMaBPR5yI4ni7MZeATQi1/hiDV3k6YjPsGXCmFpoJVJVRLXgG/ECUk1O/BIK++smoy96EjQ6J5AmWGL8JUAzkyKa/ROy9CPp6OrFXX49AEwFNbdjf/Qz6hy4gscQLFFnBfQacqfd2cSdqoWzcdCDcKKKcxIRI5WL2JpCh34g3gSdYYlQSuBhg1gd7BioDldehKu1a6E/hh6AR5UTCw2tEJ0YSCWJI5Hq8CVZDIhlmPbAYqFK4z4Azfnw5EiqvQ1XalTC0cKP4cX9VigHCLn2zN4GEgpUQcApWEyxxJ0bGCR/EwCpSU2MYjkZx7qMEUnrjv7F8cSzmMlxGYn59rrpahZsJnPHjy1E1qsrfr7JRlX+/EOW03maCUpSbvjwkcqMTLNFvZW8CD4lk1IsBeU6Bhj3oj1MFJM0s6DI0hWPgtQsLcDOBM+wZsKcWxIAf16BaDLjtoOgGMugbHRLJEyzVN+rFQH4dAgqPomfkK20ni4GNwmKgMlB5HSrT9gOV+fdL0FQ7ohPjRidYshoSyd6E2sIHz8BnGHxsi2HUhWfgFoa7W4qMfanAYqAYFgPO1MLXr6q0/fKaqMSPfg+inOg8KvDSM7AerCZYWu+QSHmCJRIKTPXhT5+B6U8xcu4chj++YfQZeIj00iyS2sPoLtzGfIqlgAz3GXCmFsSAKmqhbPwQA6KcVDUTqE5/vXg9wRIPiawOfBADjAqEGKDKkCoVqhzNvZM3WlmqrMxVpu0nKq9DVdq10J9CGFKVgka1Z8BuNIEXqCp7eYKljQyJpN/xBEuVhXoxkE1j/rMJxOLXMZ9WM0SnHhFigCpDeuGpUhEVpPjSkCsDL+J1/PE/85UvzV5H2yQ2zO5O2i4VT5xTnJf20XmoYjRXwrQt8mCO9+HN3DYh8kx8vpjRj9FfK5Ek4lGeaJvirAfzdXiJyrSrHfEsqZ5FUSXVKAackL0J651gyWpIJHsT/EGxGMjifiyMR/V2//2IJMSLu4T44El0dx7B8cE4UsZexj1CDFgZWzKChFwZ0H7aFoaQtoWBtYsn9otj8vZ60pPjiTil4hHriXf4Qkrfpr9epFduPPl+lCOSCBFPpEtBiB86J52foG2RB7diis5Fzwel+eT/e0+PQ/sIcW0EpUHbZLCE0ZLjuUHOfzVC10l5F2XnNSrTr6Syt5pgqVQnxg/+4XEM/ug5vH34eH4fT7CkFsViIINktDvXCXDzs7h4T3x9SaMJOqNQOnglm8bizUljvoK/YnJmeWMdETMpJBMTRnqTuLmYDmTdhCD6DFDlJQwBGQbalo0FGRDCLp5spMxpl+MZOH1pRU+XgpURJV68vIL/8vtlvPjXrx3j0V/Kg8gzbYtzyfmziyfilIpHlBtPDl6kR4h4FIRgEl/XcjwqY9qW06N9hByPfmuOR+cgRDwKoqys4tFfsU33iLbl+yvyJ8c793k6d3+1+yziCRFM5xLXTueibfm5Es+BUzz6/8IXOQ/Wr+Nf6/8T4pidSLKKZwcdF2XjNZSuCCoR10l/1wMZdNGJUZ5giYQA5f3AaxN5MWAXeEikN/gnBhp24dSH00jr74YfYoAWQjqHU/vMoxY2obXrLC4ky3sBs+lpfBw5gf1i/QQRQjvQFX4PiZS6jkxWVHsHQpVp+4n5OsgwCCMgjIWoKGmbAuEUj4waGQg5bTpGgfaLNGhbGBIycLRtFU82om48EoQ5HjURiXPJ10txaJvORYG2zeKCgpfigiADTduy58cqHuWZtkulVw3xDv85VXTfrESSEFPitxSs4tG5KE35eXEjkszxTn6Su690DoorP8+UT4K2KRCUhl08mRtfLuG/np/Hr0Zu8ARLPqFYDKxiYeQpNMrGc11hM/ZErmmpuSWLdOJNdDWHtN9qxr/zGZwJhxHu+0nemIfaz2Bs0W2Ksxjt3W7kpRlt+59AZ+fjhYWVGkJoefIDzProImAx4Iy5wlSFyutQlba5Uvcbs/iRjQXdNztjIce7pe379+v3cWUul47ZSFEgKD5tUxyneLSPnhc6l3h2Xpr4Wj9OgkMYUat4VsaWfkf3TeSZtsUxcU8pP7SvVDzCTXqEiCcHL9Jzikf/W4k91eclA//rt2P6NnkSzN4E+iu2zz7zqr796lMv6k0PtC17E8g7sRFvgixA7EKlo7wDYXbhPI63kFGWjXv5oax5Bh5MItJBcxtswb7+T7CoVSo5ssgk/4BT+rLJW9ARmYS7NRHJk7ETB06/g1hyJd8skE3fxMipbyOk53Ev+uP+9X6odjGgGnMFwhTwq2xUPj9OX5VeIcqJDJMKSqUvrpEg4UDbpUSSUzw6jzgX7aftUiLJKp44Rs+PeIbciiQ5HqVN1y+Oyc8K/Za23/pbzuNgF4/yQtsU5/+7nRMkR9+/pRt4EY8M8X9//v/Rt4VgkI+Zw3omWLJKxxwqHeViALiP5IUXcUD/Sl9r5N0G92Igi2/iZ7GDfrf9BcRWzJ/r5K14Gpvo+I6ziH/j5nP+IdKpFcvzZ2eHcaSR8tiEzuiMsVc97BlwxlwRqkLldahK21xZq0JV/gmzgVCBKCdhJL1GGFe6Fq9RWfYywrh7XUbrub9OImnm77cRuzKDv438sahsrIy2UyCRYDUk0iquOVQ6PogBQvsiT32Bqx+P4Fw0imj0VfS2GS72tl5E9H1O4Rzej8/lv8idWcHkQIeWdiN29F+G5SO6MIIe3YDLIxzWSX665RC29sfLaMrYGH6IAZXIL6QKWAwEj8r8r8dY1BMqy15GfJkLb4FXmL0VXiKXjVcTLMlB8Nafpyz3Vyo+iQEzKjsQiqmOxToIFuQXT9qOkxcXjJ3rJC8G2DNQDirTJmrBWKgqo1rwDPiBas+AeEa9NqSEX2VP16DKu6EKt2VjNSTSzQRLMnb7K5GAxMA93Bh5DeHwL/HyyHV4WiWtXsHAzkbNOLchHLNrwxdiZOMGvNBMsEs737KxVz3cZ8AZv8RANZZRLZSNyi9HgUpjTahOv5pR+YyKZ5LCepG9CdRsYDb65BUgzPsrmYDEgELyX+odGJjMDV1ay12M9+30QAw8wK3o0dxoiUeex/ia/gnqYM9AZaDyOlSlXQtNKH4IGlFOJDyqDZVlL0NChs7htaCpdDFgxmz0Rf6p4yKLgTyrSE2NYTgaxbmPEsZCRdq+mSvGxD1uwmUk5l0+bHkx0I1o0s51lUIs3KbF2Vg7f3Z5DKe3kxeiGQcHEy5HJngD9xlwxo8vR0LldahK2y8xoBI/7q9qMSCugc7hNaqeHTOqxEC1IYsBCmLUAosBmXz7PBlosYSx1GfAZXA9mqAsMbAJuyPXsK5XPbuAS+EOfVhhaN8ruJqbTck3uJnAGZVfFtWOX2VTzc8PIcpJlaFTnX41o1LsqXguZSFgFyod9WIgb5wpiE59fogBpz4DG20myGDuwmm0h7TzNHYi8jfv5xcgY18qqEbFSyNQmTbBngF7aqEDoR+CRnUHQpXpqyx7GboP9J7RXy9ReX9VlI3Z8P/7E0d1rwB5CMS+SscHz8BnGHyMJgAiAy08A6LHf8HYlwreigEhRlrQPXzL2OcWeXbD7Tg2PO0uXx7jhxhQiYoXMghUXofKtP1AZf79EAPVjMqylyEhQOfw2rtRbZ4BM+L59LpcVOJPn4HpTzFy7hyGP75h9Bl4iPTSLJLJpMtwG/MptybXhaHPN10IceIWeQbDreiKTBjX4z/sGXDGL2Oh8jpUpe2XZ6DaYc9Aaeg9U+EZqHZU9gdRhQ9iwG9EE0AIj4YvwUqXZZNRdOku/qcwsuC+E1U2FcPZfeTl2Iz2U39AMhOQEtCodjGgmloQA6qohbLxoxlIlJOqrzvV6VczKgWryueymqlAMfAAS4mP9dEH0XMfYvzGYplu+IdYHn0mN92w5XTEaUwPdevDARuPDJsWF6KZEu/g9pLFssQPPsPQoa26yGg5NoxbAQoBgj0DlYHK61CVdi30p/BD0Kj+ulM5WkFl2ctQ+dA5vBY0Ku+vH2Wj2qukgoDEwCoWL72GY12d6PzREBL5j3PNUL/bi1b6ahf9BUI7ceSta+VNTLTyKcL6kL8t2Bf+GHN5w/0Ai/GI0d6/B+FY8cPw8MYgHqNzhw4UT1OcncfY6b0IaUKguet1XPV5uWIruM+AM7Vg8FSmXe3UQlMHiwF7qn34qxAzXpeLSgISA19hpOdRzSA3Ynv4U4ipgbK3ojikz+ZnCqHHNeNsN4GQFVJvf82AN7V1orfveZzs3o0mPc3NaD/9MRZNH/eZWNg4bupvMDeMblmg2IZy+yCsH/YMOKPyy8IvVJWRX2WjKv9+obpCV5m+X2VPQoauw2tBo1IM+FE2queoUEEwYuD+OPq2kPGUp/BNId6/t2BYm76FvW3Nxv8Oiw7Zch/J8dfRu7d41EJo20GcHIpLyxoXsPUMLJ5Hr6tVF51mPfQWFgPO+PXlqPI6VKUtjFA1iwE/7q9KY02Ia6jmDoSqxIDKZ9SPsmEx4JZkFJ268ZQmBvrmMvp3kGtf29/4BF6+chfZzJcY6d2R23dgCDPraabPprF0exqJ+AQSM/NIWYiAArk+A+5HLgQHi4HKQOV1qEzbD1Tm3y9BU62oLHsZEkp0Dq8Fk0qx50fZqBaSKghGDOTd7mIJ4SxWxp/HI8YX9qZjI1jQbXZG0w3dOTHQFEasekZpKEeIAXph6KGjh8/8AMoPfDnxOv74n/rLKPbLxygQ9JLSNsUzf+HYxSOVTOcU55fTpt/SMYojxyNoW+TVHO/y7AP9LyGujfj09gMcvpDCP19Jr1HpcjzKF21TnPWoefN1eImqtOn6qAxV96dQibhXdP9UIcpJPCteY35vvETVs2OG8q7qGqoZlfdWFcGIgfzKgiE0d4bxzrsR9Opj90kM7MTJi3eMiJIY2NqPeHX2JVGCSjEg4on94pi8rfK8XsQjIUDb9NfP8zrFo2MUiPWIKat4py/lmqVoH52HDJjZiNG2yAPF+3X8az1fP/44pe8X6cnxKA36vSyS6PyEuDbCKZ4oFwoUT+z3Aj/EAKUv3z+vUZ1+NSOe9Wr1DFQjAXUgvItYeI9h/E2haDhgoR9BqHsYc8ZexttmAlGhE/QS0jZVtuaXhvZbxRMVM6VDyPHsjJQ5bbfGzK0R/ecrX+tCgDwETvEovcN/zgkGkS9xLjl/FJ+2zfFEnFLxiHLjycGL9AgRjwTBW39L69uiwpXjkcigbTk9ITzkePRbczw6ByHiURBl5RSPcBtPCBq6x+L+iuugbfEbuue0LT8vbuJR+r+fyj13tC3KkvJE2/JzKp4r2nYTT1wb7ae8fHjzftF7ROeX4xEUl7at4tExM6KsRHmpQpSbuDavoOujvIv74yV+lI141rwuF5UEJAaA7OwHeLLF3CmvDf84miyM8V8ZQ98jFGcDCwrVKH70GVCJ6hfSXGGqwuk6RB5EZU3bFAjKF23Llbs5npy2iEfNIiIN2fhQpWM2PuXGo8pLVL5kpGib8mmu2ErFI+NGkMgS5WIlLkQa4hoJyo+beK9eyYmQX8RWPEmv1uLJYSPp0T2n/fL9lcXUY3/8Tz0u3V+neBQIOhedW37+xHNF2xSIibkHugi7Mpd7L+R49HyJeJQe/U9xxHtE5yfoL/1P0HHaLifeRqA0qFxEPquBwMSAPiXxzMeInDyKzs5OdHY/i8j4LWmCoSxWLr2AHaEQmvaFcVF7KJgC3IHQGfEyikqoGlFVRubKWhWq8k+ISluIJNoWlTttUyDcxqO/VHFTfAq0fe7z+3o5kaGTjY85npUxE/HoXObypm0KFIfKRvTRsYtHyEZZ/E4ck8uYzin+F8EpHqXlJj2neLSf8lwqHuHleQkRT4hkOV7r+8tr4pFwoL8iELJoFfHorzk9+ltOPHGsWghQDDAbodrFgGrMFasqqrGMzJWXKlSWjdkQq0CUE51HBarTLxd6ZwjKlzBiVM60bSemPk3mjPD1xdxvrOLR9YlrpP20XUpMCaNN/VrM8eidFs+uLJLM7zxtW8UTzyQFQo5H56H9VuKCRJv4jYhHf83x6K+IV02wGKhS2DNQGai8DlVpmytrVajKP2GugFUgyomMUbWhsuxlZKPoJSrvrx9lI/LvdbmopALFwEbXJqgPuM+AM+avBFWovA5VafslBlRi/lpUgWoxIK6BzuE1qp4dM6rEQLXDYsA1itcmqAO4mcAZ8TKq/HKsVvwqm2p+fgjVFXo1Ggy/UCn2qv25VEVAYkD12gS1DzcTOOPHlyOh8jpUpV0LXhM/BI0oJ1XPUC14BijvKq5B5f31o2xU3ltVBCMGfFmboLbhZoLKQOV1qEzbD1TmX6WxqAVUlr0MGTw6B/31kmr3DIjn0+tyUUkwYsDPtQlqFPYMOOOXsVB5HarSrgXPgB+o9gyoNBh+lT1dA+Wf/lYLfpQNewbcwmsTbBjuM+BMLYgBVdRC2fjRDCTKSdXXner0qxmVz6h4JikwBYIRA7w2wYZhz0BloPI6VKXNQwvdoXo0gcr0VZa9DAkZOofXgqbaxYDIfzUJvYA6EPLaBBuF+ww448eXI6HyOlSmXe34dX9VwmKgdmExUAa8NsHGYM+AMyq/LPxCVRn5VTaq8u8Xqit0lelXe9mr9F75UTaqvUoqCEwM8NoEG4PFgDPsGbCnFsSAH50gVYsBlR0UVZa9DJURlQ/99RKVz6gfZcNigPENFgOVgcrrUJm2H6jMv0pjUQuoLHsZEgJ0Dq8Fk0qx50fZiOdTlZBUAYuBKoXFgDN+GQuV16Eq7Vpqb1fZCVKUE51HBbXgGaC8q7qGakblvVVFwGLgIdKLf8dkLIZYiTAxkyr0JWCqXgyophbEgCpqoWz8EAOinFR93alOv5qpds9ANRKcGMjO4tLLR4vXIXAITeEYL1gkQWKAKhPx5WL+2qOXifYTdEzEMVeiTvFUvjQq0yb8MBaEyutQlbb5WVGFqvwTdG8pXZWCRpSTeD+8RjyjdB6vUVn2Mqo8Ayrvrx9lI8QMewZKsoqF0RNosTD6doHFQDEkBqiiogdaVFjyy0N/xcNeifFoWwS5QhEvkfgioL/iN27iCUHz1t/S+prony/mBJN4Kekv/S/iibwRTvEoLVFp0/9CZMjXIeJaxaO/9D8ZAHM8O+S0mWLM958pxq9nh94ROgf99RK/xLwqKO8qykUlwYiB7DSiXWLdgVJhM9p7X8V78TluJpCQPQNOxpGg47RdTjzxMItA++kvIVcAIp5Iw2082hbBi/Ss4lE4fCFlGY8qGzk9KhereLRfjke/s4pH+ZHjERuNR39FIOzimdNrfX95zf2l6xD3l4QSxf8vv3eOR38J2hbxaB+dRwga2qa/BG2L39BfOocIdvEuzz7Q91uJJNqm/BD0t5x4XkDpyOXqNSrTl8teJeZ74RUqxYAfZSPy73W5qCQYMZCJIdyUM/aNB/4JY1MLSGdnEO1s0va1IRxLaZFWkYq/hH3UjNByHCOz7BeQqdY+A+LlltOWKxRzJSBX7k7xhJEiaP+rV77WhcBLE18XGR9zPNoWacrxyBNARpCgfcI40vlk4yhfhxyP8ifHk40tnYfii3zQNh0j6C/9L/KmIt6v41/rf0vF8+K8cvAiPTneY3/8T71cS8Vb73npGG2LePL9JWjb6v66jSdEGd0Pgs4vfkN/6X96LsUzQ3kgaFvkVY4nnmE53xQISoP203NpNlS0LdIuFc8MHZPjeAWlSXmnsvIac9mowFx21UAwYiC/UNGj6Bn5ythpFgPEPUwOfEfbx6sWmqn2DoQq0/YTldfhNm2rSpsqdUKu3M0Vd6l44hgZGCsjRXGE8SHM8eT8y/HsjCP9hrZFGk7xZI8PhdOXckuc0zbtF3kT5yZEfKLa4x3+c66OlOORgBXx6K8I5njkjRHxCLt4FErFk4XlRtKT7y+FIxdTePyjnNij/RSs4tG2/LzI8eg89JxSoG06PyHOS4F+axePtikQcjyr9038hvJE2xNzxWVcDQQsBmTDfxfjfTu1fTvRN557QIhMLIwmitsxiCluJ8jjhxhQifxCqkBUFFQpqETldahKW1RmVEbVih/XQOe48MU3+DT5oEgkyUZAnF8YATfxhFH531q69IySESdovzBssvGh39M2/SXs4tG2MI7mZ0c2onI8graFmJLj0fno95Q+IadHcWibvBtCmDnFo7TcpFcr8WRhVi0EIwbuj6Nvi9kzcA/xflqvYBN2DVzBA31fBrPDPWgkMcCrFhZR7Z4B1YgXll5Ophi/yqaanx/CXOl7jer0Kx26fgqELKYokFAiYUKCxSkebQvRReUoypJ+R9t0jAJtizTk59IpHm1biSQKtC2LKfEuyfGqjYA6EN7E0IEtmuEP4ZG+MeSKexULI0/lDH9oD3pf+1dE3zqDzmZj/QL2DBTBzQTOiIpC9Uup8jpUpS0qM6q4VKIq/wTdW0pXVMIqMFf6XmM2Pl6isuxlqGxUlJHK++tH2ai8t6oIRgwgjURkf87It/wMF5dzyi47PYSDlvMOcJ8BM9xM4AyLgeBRmX8/xEA1o7LsZcjg0Tnor5cIY6pCiPlRNuL59LpcVBKQGNAMf/JdHNW/+qWmguwCLoU7EDKLgeYnMZzMNRwwOdgz4EwtGAtVZVQLngE/UO0ZUGkw/Cp7ugbKP/2tFvwoG/YMlMUqUjNXEItfx3w65xnQydzCeOQE9m/bpAmBZrQf+SWGE3d5jgET3GfAGb/EQDWWUS2UjcovR4EoJ1Vfd6rTr2ZUPqPimaTAFAhQDDAbgT0DlYHK61CVdi00ofghaMwd1KoJlWUvQ0KGzuG1oKl2MSDyX01Cj8VA2ZgWV5r8Aimt0vAb7jPgjB9fjoTK61CVtl9iQCV+3F/VYkBl+qqeHTOqxEC1w2LAisw8EtLqg+sLl5GYD75Qs6lrOHfqO7l5D6QQaj2M/gtf+rp2AjcTOCNeRtWu8GrEr7Kp5ueHUF2hV6PB8AuVYq/an0tVKBYDWdy7+Cw2m4znekLgCxWlJzHYtVXPS6i1EyfOhBEOP4en97fmOjyG9uL02LxvfRu4mcAZ9gzYUwsdCP0QNKo7EKpMX2XZy9B9oPeM/nqJyvvrR9mI+sfrclGJYjGQQTLavcawrycEKwZWkIg8rhv90L6zuLQojWzIfIHzp76dO9YRQeKBP3KAmwkqA5XXoTJtP1CZfz/EQDWjsuxlyODROeivl6gUrH6UjXg+vS4XlbBnwA3fXEb/jkYtH3sQjq19gLILIzi2ifK5F/1xMb2yWtgz4IxfxkLldahK2y+vSbWj+uuOPQO1i2qvkgp86DOQwnwyieSGwm3Mp4J72FYnB7CTRMmOs4h/Y/Xl/xVGeh7VxMAm7I5cgx99j7nPgDO1IAZUUQtl40cnSFFOqr7uVKdfzVS7Z6AaUS8Gqp5VzA3/WG8GaOwZwYKxt5jCjIqbT16EH45L9gxUBiqvQ1XatdCfwg9Bo9ozUAujCegZUvEFrPL++lE27BlwIrOIqdhHGI6+h48m50q6/LOLk/jDuSii5z7EJ9OpACcdWsHkQEeJpgqpb0RnFEljr0q4z4Azfg2fU3kdKtOudlR+OfoFDy20x6/3VxVCzFST18cnMfAAyeEn0UzGsqERrX1jKNWynp39AE+25BYpCu06i/hKUHIghVi4Tc/3zoErsH40s7g/fhpbakwMqKxQVKZNqPyy8AtVZeRX2ajKv1+ortBVpu9X2ZOQoevwWtCoFAN+lI1KoacKf8RAvgOeZiw3HcPwrBu3W6EHf0PDNvSOzhv7/UaIgSZ0RmeMfWvJxMK5+Qe29iPug5itds+Aamrhy1FVpSWMUDWLAT/ur0pjTYhrUOFKVln2MqrEgMpn1I+yYTFgw8NEBLt1oy4vWVya7NQgOvTfNWBL3ziCcbiUKQZ2R5Dw4P6TsedQ30GutKyOV3pQmf+f9P9OT/dbv/vM8ni9B5VlL4fvvXZBPwf9tTq+3nD8xf9bv7f/8C+fWB7fSPCjbMTzyc0ERcjDC50N6hoyMYSbcmLAL/f7WoQYcOozUJvNBNVMLZSPXGl5TbWXj+o2ZSof+qqjypzOU22ofHYI8fyo6kBY7ZCYqbZy8UEMyBMPbUAMNIURC+SddCMGCtcY6h7GnLFXJSwGnOHycYbLxxkqH5Vu/GqHnx9nqrF8fBADD7E8+gw26WJgMzoGP3c/MmB5FL36ZD5a2DmAyUA6lrox9GJoYQhb++M2nQy9hV9GZ7h8nOHycYbLxxkuH2eqsXx86TOQn7SHQvtZxNNu5EAGs8PHDBGhhcCaCaQmgEfDiN23yHt2GtGuZi2fj6Jn5Ctjp1r4ZXSGy8cZLh9nuHyc4fJxphrLxxcxgJUx9D2SGyZI3oH2Ux9gOu3Uy24Vqauvo6tZ/MZpWJ8P5D0UVtMRZ5GZfhtdjdrxxh6XIyU2Dr+MznD5OMPl4wyXjzNcPs5UY/n4IwaKhglSCKFp75PoH/ojYolpJG8vIpW6g2RyGonYH/HWme+jNSTiUvgOBiaDHC9+F7HwHj0voX0vYmxO9BDVhMDifyCir2bYiO3hT12PlNgo/DI6w+XjDJePM1w+znD5OFON5eOTGNDM5uLHON2+WTLwbkMILU9+gNngpiDUyc79Cc+K/De1o7P3OZw5+QO0NxkTI7Wfwdiif74Lfhmd4fJxhsvHGS4fZ7h8nKnG8vFNDORc/2/iSOsmydCXDn4bWXuyyCTHEOntyM0nIEKoFftPvo24vKyxD/DL6AyXjzNcPs5w+TjD5eNMNZaPj2KA0Azq3CW8edxkUC1DC/adOodEqhKEgMxDpJe+wkxiAvHETKCrKTIMwzCMF/gsBgQPsHTjE3zw5m9wuvcIOjs7jdCF7t7nMTA0ivjMss2YfoZhGIZhvCQgMcAwDMMwTKXAYoBhGIZh6hwWAwzDMAxT57AYYBiGYZg6h8UAwzAMw9Q5LAYYhmEYps5hMcAwDMMwdQ6LAYZhGIapc1gMMAzDMEydw2KAYRiGYeocFgMMwzAMU+ewGGAYhmGYOofFAMMwDMPUOSwGGIZhGKbOYTFQwXzxxRdIJBL6X2YtCwsLXDYOUNm88cYbOH36tLGHkbl8+bJeNq2trXqg54kpQHXPhx9+qJcTl81a6P36+uuvjf+qHxYDFQi9fFQ5NTQ05MPTTz/NL6QGvXzRaLSofGibyowpQBWV/PywaCpAzxC9T3L5UCDjxwB/+ctf1tQ/9D+XTwESkVQuJLZrBRYDFQY9XOIF7Ojo0IP4//Dhw0as+oQqcSoDUR7mwAavAH3RyWVTS5XWRhHPEBk4EpYssgv8+te/zj8zVE6yaKK6iIH+zNRimbAYqCCoUhIPGVXmArlir+dKXa7E6euFjL9cNuwOLyAqdVFmXJHnEM8LlQeLgGLonRLvklz/kEdA7K9374DZ40ahVj5CWAxUEKICtzJqwi1FoR4rMfESkhAwt9PJSp3JIb7oqPlElA17TgqCkgwfU4yT61s8Q/UsBqjeEZ5aEkuiKaVWPtC49qwgRAUuq3KB7DWoV+8AVVZWBk1W60wOuTxEBcZNBYVyMQtKplD/OImBehaUwkMiPtbEx1uteN249qwgxMtIX7pWiIePFClTDJULBaYgHOl5Iqhyp/+5qcD6OSEDRwKc3rt6/vIVzwnVL7LRF5438TzVKyQgSQgIIVlrXjeuPSsIJ2VO1ErbHeWdKhh6sUjgbLTZQ/aa1AIbLR/xnNBvCdlzUguV1kbKR5QDVehUFuKdk4Mot2plveUjv0ckCOi3lI5wh9fCs+M1tdRUwGKgghDKnNo17ahml69Q1pR/c9hIG65Q6E7lVg1Q+VAFbC4bCuWUD1Xg9Bu5uakWmgqofMQ7Yg5WTWtWiPiykaOyIVEgyohCNfYp8KJ86LpFuVgFen+5v0UBUd614HVjMVBB0EsmXjo7NS+MRTW67OSvMHqJqEKWK+D1fnmIMqlmQ0d4VT6iPOgLUSBXWvRsUdpkPKqJUuUjX68dchoUZCNJ5VHNoy+8KB+CykEWBXIaIlT7u+YV9E6KMql2zwmLgQqCXkLxYNkpeVkwVBNUEVGeqYKRXxq6ZrnSWQ/i924ru0rEqXxEZey2fIRRoN8K5EpLBDIW1YJdpSuXD5WdfM1W0DWLdKy+cMV9oFBO80PQyC7+jZSPgOof+o3sbSMPnBBL5vPUM6J8q10gsRioMERFbufyliurakJ8rdJfM/I1leuCFE0Ebg1lpSLKh9ywZsotH4pHFT9BRoIqKSGYRKDzVFNlTtcg8m2mnPKRRQU9O1aI45RuteC2fNw0F5BgEM+LWRDJx9w2PdQ6ouyrvQ5iMVBhyF/+VpWR/GJXE0Lk2H2Nii8OOxFkB1V+9Ltqr5hKlU8pkSgQX4hUMclfcXIQQqGacFs+bipkUS5WhpMQxq6axICX5SPqIPqNFaXOVW/IArOavSUsBioQURlZVfzCfWf3olYqpSoQWQS5dc/KrlHZ/UmVOH1pW3khKhVRPnauRrl8nCocWSyKQOVAX8FuvoorFa/Kh3AS3HIZuXWpVwKifOye+XLKh95RimdVx8ieAUqTyUEii8qEnk+ql6gM7cRmpcJioAKRX1x6uUWlRBVXtb6IwpVmVcEQdI3imt1+5Ys0qYzoBaTfiZdShGrBTfmIe1/qi4ziUTlQeZgNmiifahJKhDBQTp4Rt+VDiHKg3wjjSH9LeQ0qlXLKx05QCcQHBwW5npHLh9IyP1v1jHh/zcHth00lwGKgQqHKWjxQ9OKJF5mCncGoZOQKxq4SES5/t9cnysQsAChQ+VWTm1cWgF6VjxWi0nJjMCsJr8vHyoMiAj1P1Wbo3JSPqFNKlQ/93lzfCBFAgY6V8i7UC2Ts6Z2Sy4sClXW1ed9YDFQo9ELKgoACPXBuv5orDao8xHXYvSRCMNB1lsKqMqcKy+pruBqQmzzsykeu8NcLlU21l4/8tSpTbvlQOZsrcarYuXxycc1lQ4HqpGosHxXIHzgU7Lxx1QKLgQqHXnIyfLWgxEu5qGUDLyMqbfmLRlR+tJ/Sq4fykQWVjFX51CKlXPhy+cgVMj1XVLZ25UPHKVQ75ZQPvT8Cu/KhOCQKyItEzxiLgGKo3ET9UwvPD4sBxjdEu6a5spYRx2Xk9jj5d1S51VIFVU75yJW5/Dt5f60hf4nZXac4LlfOXD4FxHG78qkFUc2sDxYDjG9QBSUqHTLwZuy+fIV7k1R4LVfm6y0f+mqrt/Kx8p7Ix2XqpXxIQLotH1ls1kv5MM6wGGB8hSopUSGZXWvCA2DlzqW4teQFsMOpfMQXHJcPl48dGykfFgL1DYsBxleoQqYvEKqU6C999VNFJDcFmCuxeoLLxxkqH9G3gsqHXONcPgXclA95AhjGDIsBxneochIVkxxE5VXv2JUPBS6f4uYSc6Cv33qHy4dZDywGmEAggydcmuS2pB7Q3HmpAJUFl4895NLm8rGHy4cpFxYDDMMwDFPnsBhgGIZhmDqHxQDDMAzD1DksBhiGYRimzmExwDAMwzB1DosBhmEYhqlzWAwwDMMwTJ3DYoBhGIZh6hwWAwzDMAxT57AYYBiGYZg6h8UAwzAMw9Q5LAYYhmEYps5hMcAwDMMwdQ6LAYZhfCObTmIyFkMsfh3z6YfG3kohg1TyM8Rjf8XkzLL2nxu038xMInbxD/jwYgyTyRVkjSMqqexyZKoRFgMMo5QsMqk7SCaTSM6n7A1MJoV5Lc7tpbQvxiQYMkhGu/VldRsa2hCOpXK7s19h7OxT6OrsRNfxf0UiHVAJrMbRvzWUy19TGLGSaiCFxFs9aA3R9Rhhaz/iq8ZhZdiUI8NsABYDDKOQhzcG8VjeWITQ3PWmhbG7h3j/nlwcV0aoWrExYsuj6N0kymgP+uP3cvv9JhNDuMnIh4v7UHxv3f9u47AYYLyHxQDDKCQTC6NJNhYNLTgUnTZ9/acQC7fljtejGJC/yEPfx9D0N7n9flOWGFjF3PCPEdKvZQv29X+M6eSXmLr2dywpd2w4iIHVBN76XquWr2a0913AorHbVyohD0zZsBhgGIWsFQNa2P4CYiuyxahzMYCHSCevIRaLIT61qMUKiLLEgOTN8f3r3EEMyNfQGUXS2O0rlZAHpmxYDDCMQgpiYDO2bWsxKnCzd8CdGMiml3Cb+h6U6n9QRAap+dtI3l6CfVN8oV/D2j4LmqFemtWO3cZ8yumMxnn0/NnFdTBiniD1z0jOYqlUxzqjn0YyeQepjHbVZYkB6Z45XUv+HNJ5NoxqMWD3zMjlqwW7Z7CcPEjlU9v9ZSofFgMMo5CCGPgWfj5wGrv0bS0UeQecxIBWAS9ewbvh7xd3VGvYhG37TyAyfqu4Qp7/AD1NITSEDiDytySuRn6AZj3+o+gZ+UqLsIr5kaf1PIX2RJC4fwtjA0eltFuw7/R5JDWjlVmMY+h4R8GzEdqFY0NXkJJq7Gz6S8SiL+BIe7PxexG3FQf6/h2JlNybzs6IJTHSs03fH/rWAK4aP1lNRLDH3CYvwiPPYzxfflpek2OI9Ep5pdDUgd7ImH4txdxHcuwVdLduMuKG0LT3p3g7/iHOuBAD9vnagscGP9PkE3k6YoiGj6Kd7oUUJ7Tte+g7d62oDAvpbcK3Bq5od6hA4dhm7IlcM45ZlaPsqTCHJhwcmrI3tKWemewKkrEowkd2F5cvPYMHTuNc4q6Rdhl5yNzCeOQ49haVTwv29r6O8eR9IxLjJywGGEYhBTGgVdqfXkH0kJV3wF4MZOf+hGfbNxu/sQihb+PZC7cLlWwyik792FYc7ulCSz5uEzqjM1oEyZBs7sKJf/y20e4thy3oOPNP+LnleXehb3whdy58g+mh71v8XoQQWo6fx0LBAtiIgRlEO5ty+6Xrt2xiyYduRJO5iM5ltBntpz/GYj4PWaSvvoJ9VsZ8SxOaxH4HMeCUr6ZwDJnsFIYOGtdjGXbg+Ohs/p7J6em/N/YT1sesylH2VJhDCFv740Uio4gSz0x2eggHLcWPEVpOYHSBUneZh+xtXHjW6rnLhVD7GYwt2uaWUQSLAYZRSJEYiC1j+eLPCpVt3jtgIwaysxg9vsOoJDejredVjMSuITE5hnfD3zO+3uR0NPIVuwja11bPKZzs7kLfxTtaBNmQUKCv4l4MDP0Wv+nZZaqgN6G1+5d4651/Qd+BR/P7N/WOYlk/2X1MDX4Podbv48xbo4hPfYlk8kvcuPQmjrU25uI3PoUR3VAQ5YmB7NIkPoxGETXCO/3dhbLbOYBJPdk7uHhyZ26fJoxOjdxEOptFZukqhnq2G/ufwOAN42szOy0JshCaO8N4Z+T3eOdXR4o9Lw5iIDs3jn8J96FnrzD4TVoZ9yEc/ie8HV9ANvs5Bjua0dr1C7w1GseU7ga/jktv/gStRvqNPSMQksobMZDB3PibCP+iB3sbc/EbtnXiZDis5eslRCfv6r+0pMQzk50aREdoB7rO/A6j8Ru5JoIbn+DNY98y4guvk5s8PJTeAU2onfoA09Sck1nA34aeNPYLDwvjJywGGEYhxWJAq7QfTCLSsSVXUea9AzZiYGEEPaJS3f4LjC9LX0tFRq1N+1pfyu0vqti3oisyUeSSLjYkmlE68M+4Ilz5K58ivN0w4npF/Ye8i73o6zBviLX99xZwZ03bvOwulocKlicGiigSRtKXtVRGm45pBla61oeJCHbr8TejY/BzPX5WK58ucR1FZXofyZETeWPtJAZyyF/B8rUQq7h3Z2FtHw151IQ0H4E3YsBgPX0GSj0z2Xu4c2ftZEqr8X5s1X9j8jw45uErjPQYwnLT05JQ1Hh4DZHdRtNNxyCmzCdklMJigGEUskYMaFXmwugJk3dg2UIMZHF//DS2GPG29I1r5krmAWaGDuV+o31JHRi6mauspYq9settTK9pL5cNyU5NRMhfjFJF3XAIQzMPjP0arjrXiQ5mXyAeecJIRzZW6xUDq1ge/wW267/TvuaPvoukcVmF8t2MfQOf5L5aRYhHsF8/VjCksnFdU6aurlHgJAbMiM6VMUT2G0JQSr+SxID1M2NCdPqzKF8dpzzIx/YNICbfL5vyYfyBxQDDKGStGNAo8g48giPD13BpjRiQK3zR3i9TLBbylbFUsZsNSw4HQ1Jk4Apt8jp2hlLvXHYOZ493os3UWS4X5HOsUwykJzCwzyivxkMYvL5iHJDTcw65sihRph6KAb1j5bmzON7ZnjfmRUFKv5LEgPUzk+sQee7sP6KzzdRR1Op3Tnko8kI4hJLlz3gNiwGGUYilGDB5B0IdYbz2c6P9NV8JljBcFSEG0piO9hT6LlDv8r2Po7PzCezPGw35HHbndhIDK0hEHjf6MmzRvv4ntLMK5PRCaGr7rnbuTovwQzw/+iX5LZzL1CsxkJlC9EhudIQeQtuw9wnKx3cLgklKv7LFgFZq01EcaS4IvdC2vXiCynV/m3W+3YqBpjbsX3OvKHSh+/nzee8P4w8sBhhGIdZiQMPUd2DbNqM3fN5IPMTy6DPYpB83tcnqyM0EkmHzUwzcv4Two4aRaP0p3pu+p5kOPbLNOez224kBMkRvo8uu34R2/N7FZ7FZT6/QL8CeEk0vnogB7RzaPX9U39+I1uPv5TrI6VhfZ6HtvRLFADVh7cqf6/h7U4W+EHa/c8rDvYs4udk4xv0CKgoWAwyjEFsxYO47IIJkJAod4LSw62VMPpBqzsx1DHWJDoQdGJg0XOd+igHpXMWGVRYq8jnKFAPZWxh50hgRYBqOJ9B7uuvHG9B4KIpbJYyLHL+haK4HrzoQytdo6pORvYmhAxZt4lI5Ft3nzDSGj4nrX4cYkDp6OuL4zEj3ZstpjN8vFHB2ZggHrH7nlAd9pIUhfBuPInpL6pfCBAqLAYZRiL0Y0CjyDhhBNhIPP8PgY+L4ZrQf/y3GEtOYSfzvoqGFoccGcUN8fPopBuTRDu0vYHxRq9ipD8H4K+jKu5XtDKW830oMZLESe8HoNKiFlm70v1MYZhiNfoj4vBaxqIy2orP/D5icmUcqtYjbyRuIjw6h/3g/RucNi/TgCgZ2icmGtDLtfR3nx/6Md/vdDy3MYScGNJE38hQa9f2b0B4ew2Imq/chGH/5cKFJRU5f/lrW8/QK3jEN56TgSgysate3U4wI+RaODY5i7Pw7ePuTtUIqj+MzI3cq3Yfw+Jx2nPoQjOHlrq3GftPvHPNwHzcGnzCafWho51mcn5zGfCqFpdtfYio+iqH+ZxEevW0kxvgFiwGGUYijGLDyDhQZoVWk4i9ZT5AjQnM3BhNSun6KgaLhfsUh1NRkuOPlc5QjBuS4VkH8fhXLl17ELqcyKrqWDGZHjq/1yFAItaPzCXPfDTvsxIBWLAvncbzFqjNlI5qazM1BxDLi/Y9ZTMJDq1wex9Pfzv3GlRjAXS1fa2cBtH4WDByfGRsPFoXQFjRtyV1n8e+c85Bd/gThXXaTRFGw6iPDqIbFAMMopNAebLM0b/Y2Lj7/XUMwaJX/99/BdNGw/QdYvHpO+0qkVeDkCrMZ7UfOYuTGcvEX39wwunXDGLKZdU5ebc+cJ2l+gNCPMTwn/Xr1GiJ7jApcGiOfTU1g8MhOKW+b0Np1Fhcuv23kQz6H3blvYbjbaPLIp72KxdGfSp0TzUH+PZXRuwh37VhrUJt240j4A9yQB/1n72Ly7Z9KU+HmpiMein+FpMifdI3WrODqgGHAaRrfRKFbI+U9dfVNHMlPd0xxdqCr/zwuv/Mjy/SzqSt4W576uaEF+06dQyI1Y5SNfD+d7qGW1tJ/INIt35NWHBtJ2nsGSj0zWnldHfxxkeck1HoY/RfG8c6avOVwzkPWZoptCvRcv4gPbhRfE6MeFgMMUxXQWPUZJOIxxCankKyoRV20vM3dxGRsAokvFh0WRFKNVEaxSUwlSy3ONIupycuIJ5IeLSBkIpPC3NQkYvEEvnB1v7T8Jz9DXMv7zcUN3t9sGku3c+P3vVkASC6vL0svAkWUzAOlOY+ZxIR2v/6Kyamku3QZJbAYYBiGYZg6h8UAwzAMw9Q5LAYYhmEYps5hMcAwDMMwdQ6LAYZhGIapc1gMMAzDMEydw2KAYRiGYeocFgMMwzAMU9cA/z9CFE0YpBE7JQAAAABJRU5ErkJggg==)"
      ]
    },
    {
      "cell_type": "code",
      "execution_count": null,
      "metadata": {
        "colab": {
          "base_uri": "https://localhost:8080/"
        },
        "id": "Afq_lVv7Cdnr",
        "outputId": "44c21b78-a4aa-4caa-f29b-b22f9e273137"
      },
      "outputs": [
        {
          "data": {
            "text/plain": [
              "tensor(0.4022)"
            ]
          },
          "execution_count": 16,
          "metadata": {},
          "output_type": "execute_result"
        }
      ],
      "source": [
        "# calculate above AUC\n",
        "x = [0, 0.05, 0.1, 0.5, 1]\n",
        "y = [0.72, 0.63, 0.59, 0.35, 0.25]\n",
        "x = torch.tensor(x)\n",
        "y = torch.tensor(y)\n",
        "auc = torch.trapezoid(y=y, x=x)\n",
        "auc ###????"
      ]
    },
    {
      "cell_type": "code",
      "execution_count": null,
      "metadata": {
        "id": "Dw38sFPCKijF"
      },
      "outputs": [],
      "source": [
        "def NormalizeData(data):\n",
        "    return (data - np.min(data)) / (np.max(data) - np.min(data))"
      ]
    },
    {
      "cell_type": "code",
      "execution_count": null,
      "metadata": {
        "id": "tlIL5AaQJcSp"
      },
      "outputs": [],
      "source": [
        "# calculates the normalized area under 2 lists of numbers\n",
        "def AUC(accs, fault_rates):\n",
        "    x = torch.tensor(NormalizeData(np.array(fault_rates)))\n",
        "    y = torch.tensor([i for i in accs])\n",
        "    auc = torch.trapezoid(y=y, x=x)\n",
        "    return auc.item()"
      ]
    },
    {
      "cell_type": "markdown",
      "metadata": {
        "id": "D8cJ2IOuXz_y"
      },
      "source": [
        "# Ares Fault Injection Framework\n",
        "\n",
        "[Source](https://github.com/alugupta/ares)"
      ]
    },
    {
      "cell_type": "code",
      "execution_count": null,
      "metadata": {
        "id": "uDTHRF80YhbS"
      },
      "outputs": [],
      "source": [
        "import random\n",
        "from abc import abstractmethod"
      ]
    },
    {
      "cell_type": "code",
      "execution_count": null,
      "metadata": {
        "id": "YPO1u4qbc7vh"
      },
      "outputs": [],
      "source": [
        "def get_layers(model):\n",
        "    layers = list(model.named_parameters())\n",
        "    nb_layers = []\n",
        "    for layer in layers:\n",
        "        if 'bias' not in layer[0]:\n",
        "            nb_layers.append(layer)\n",
        "    return nb_layers\n",
        "\n",
        "def get_all_layers(model): \n",
        "    return list(model.named_parameters())"
      ]
    },
    {
      "cell_type": "code",
      "execution_count": null,
      "metadata": {
        "id": "9UvefwA9Ykmu"
      },
      "outputs": [],
      "source": [
        "# Generic model transformation base\n",
        "class ModelTransform(object):\n",
        "  def __init__(self, layer_mask=None):\n",
        "    self.layer_mask = layer_mask\n",
        "\n",
        "  @abstractmethod\n",
        "  def __call__(self, model):\n",
        "    return model\n",
        "\n",
        "  @staticmethod\n",
        "  def _generalize_layer_mask(model,layer_mask=None):\n",
        "    # Several ways to specify which layers to transform:\n",
        "    #   None: transform every layer\n",
        "    #   <int>: transform only layers starting with the nth\n",
        "    #   <list>: transform specific layers (must match length of model layer list)\n",
        "    chosen_layers = 1+np.zeros(len(get_layers(model)),dtype='bool')\n",
        "    if layer_mask is None:\n",
        "      return chosen_layers\n",
        "    else:\n",
        "      try:\n",
        "        if len(layer_mask):\n",
        "          is_list = True\n",
        "      except TypeError:\n",
        "        is_list = False\n",
        "      if is_list:\n",
        "        chosen_layers = np.array(layer_mask)\n",
        "      else:\n",
        "        chosen_layers[0:layer_mask] = 0\n",
        "    assert len(get_layers(model))==len(chosen_layers), 'Layer mask must match number of layers. ('+str(len(model.get_layers()))+' vs. '+str(len(chosen_layers))+')'\n",
        "    return chosen_layers\n",
        "    \n",
        "  #Take a user-provided layer mask and convert to one that includes biases\n",
        "  def expand_mask(self, layer_mask, skip_biases, model): \n",
        "    layers = get_all_layers(model)\n",
        "    new_mask = np.zeros(len(layers),dtype='bool')\n",
        "    j = 0\n",
        "    for i in range(len(layers)):\n",
        "        if 'bias' not in layers[i][0]:\n",
        "            new_mask[i] = layer_mask[j]\n",
        "            j += 1\n",
        "        elif not skip_biases and j > 0:   #If skipping, ignore. If not, copy the status of previous layer\n",
        "            new_mask[i] = layer_mask[j - 1]\n",
        "    return new_mask\n",
        "        \n",
        "\n",
        "  def get_masked_layers(self, model, layer_mask=-1):\n",
        "    if layer_mask is -1: # allow overriding the mask with a non-sentinel\n",
        "      layer_mask = self.layer_mask\n",
        "    mask = self._generalize_layer_mask(model, layer_mask)\n",
        "    mask = self.expand_mask(mask, skip_biases, model)\n",
        "\n",
        "    layers = get_all_layers(model)\n",
        "    masked_layers = [l for l,m in zip(layers,mask) if m]\n",
        "    return masked_layers\n",
        "\n",
        "  def transform_layers(self, model, function, skip_biases, layer_mask=-1):\n",
        "    if layer_mask is -1: # allow overriding the mask with a non-sentinel\n",
        "      layer_mask = self.layer_mask\n",
        "    mask = self._generalize_layer_mask(model, layer_mask)\n",
        "    mask = self.expand_mask(mask, skip_biases, model)\n",
        "\n",
        "    layers = get_all_layers(model)\n",
        "    for l,m in zip(layers, mask):\n",
        "      if m:\n",
        "        v = function(l) # Must mutate the layer in-place\n",
        "        assert v is None, 'Layer transform function must do their work in-place.'\n",
        "    return model\n",
        "\n",
        "  def transform_weights(self, model, function, layer_mask=-1, skip_biases=False):\n",
        "    def sub_transform(layer):\n",
        "      new_weights = function(layer[1].data)\n",
        "      layer[1].data = new_weights\n",
        "      return None # Mutation is in-place\n",
        "    return self.transform_layers(model, sub_transform, skip_biases, layer_mask=layer_mask)\n"
      ]
    },
    {
      "cell_type": "code",
      "execution_count": null,
      "metadata": {
        "id": "jXvLGbtKY6O6"
      },
      "outputs": [],
      "source": [
        "class rng_subsys:           #Handle generation of numbers for weight and activation injections. \n",
        "                                #Can generate the exact # of expected errors per layer, or have each bit have 'thres' chance of faulting\n",
        "    def __init__(self, mode, qi, qf):\n",
        "        if mode == 'exact': \n",
        "            self.generate = self.gen_exact\n",
        "        if mode == 'expectation':\n",
        "            self.generate = self.gen_exp\n",
        "        self.total_bits = qi+qf\n",
        "        \n",
        "    def start_gen(self, output, thres):    #Only matters for exact generation\n",
        "        self.count = 0\n",
        "        self.shape = output.shape\n",
        "        self.device = output.device\n",
        "        self.thres = thres\n",
        "\n",
        "        if self.generate == self.gen_exact:\n",
        "            self.zero = torch.zeros(1,device=output.device, dtype=torch.long)\n",
        "            error_count = int(len(output) * thres * (self.total_bits))\n",
        "\n",
        "            self.loc = torch.randint(0, len(output), [error_count], device = output.device, dtype=torch.long) #Generate the location and address for each error\n",
        "            self.bit = torch.randint(0, self.total_bits, [error_count],  device = output.device)\n",
        "\n",
        "    def gen_exact(self):\n",
        "        ones = torch.ones(self.shape, device=self.device)\n",
        "        bit_loc = torch.where(self.bit == self.count, self.loc, self.zero).nonzero().flatten()\n",
        "        uniform = torch.zeros(self.shape, device=self.device)\n",
        "        if bit_loc.nelement() > 0:\n",
        "            uniform.scatter_(0, self.loc[bit_loc], ones)\n",
        "\n",
        "        self.count += 1\n",
        "        return (uniform, bit_loc.nelement() > 0)\n",
        "\n",
        "    def gen_exp(self):\n",
        "        index = torch.ones(self.shape, device=self.device)\n",
        "        zero = torch.zeros(1, device=self.device)\n",
        "        thres = self.thres\n",
        "        while thres < 1e-5:     #The pytorch CUDA RNG does not generate numbers near 00 with uniform probability.\n",
        "                                    #To work around this, product several draws where accuracy is better\n",
        "            uniform = torch.rand(self.shape, device=self.device)\n",
        "            index = torch.where(uniform < 1e-5, index, zero)\n",
        "            thres /= 1e-5\n",
        "        uniform = torch.rand(self.shape, device=self.device)\n",
        "        index = torch.where(uniform < thres, index, zero)\n",
        "\n",
        "        self.count += 1\n",
        "        return (index, index.nonzero().nelement() > 0)"
      ]
    },
    {
      "cell_type": "code",
      "execution_count": null,
      "metadata": {
        "id": "zil9TITRYDbw"
      },
      "outputs": [],
      "source": [
        "class RandomFault(ModelTransform):\n",
        "  def __init__(self, layer_mask=None, seed=0, frac=0, random_addrs=False, fault_type=\"uniform\", int_bits=2, frac_bits=6):\n",
        "    super(RandomFault,self).__init__(layer_mask)\n",
        "    self.frac         = frac\n",
        "    self.random_addrs = random_addrs\n",
        "    self.random_seed  = seed\n",
        "    self.fault_type   = fault_type\n",
        "    self.int_bits = int_bits\n",
        "    self.frac_bits = frac_bits\n",
        "    self.total_bits = frac_bits + int_bits\n",
        "    self.rng_subsys = rng_subsys('exact', int_bits, frac_bits)\n",
        "\n",
        "  def __call__(self, model):\n",
        "    def fault_wrapper(w):\n",
        "\n",
        "        def quantize(q, v):\n",
        "          (qi, qf)     = q\n",
        "          (imin, imax) = (-np.exp2(qi-1), np.exp2(qi-1)-1)\n",
        "          fdiv         = (np.exp2(-qf))\n",
        "          v.div_(fdiv).round_().mul_(fdiv)\n",
        "          v.clamp_(min=imin, max=imax)\n",
        "\n",
        "        def bit_inject(output, thres, n_bits): \n",
        "          self.rng_subsys.start_gen(output, thres)\n",
        "          qi, qf = n_bits \n",
        "          \n",
        "          sign = (torch.sign(output)*2 + 1).sign()      #Grab the sign of each entry to reimpose after bit flip, by taking {-1,0,1}->{-1,1,2}->{-1,1}          \n",
        "\n",
        "          for b in range(0,qi-1,1): #one int bit used for sign\n",
        "            #generate mask of uniformly distributed random numbers\n",
        "            uniform, nonzero = self.rng_subsys.generate()\n",
        "            if nonzero:\n",
        "                cb = 2 ** b\n",
        "                # Isolate the value to be modified based on given bit position by shift and mod\n",
        "                fault = output / cb\n",
        "                fault.abs_().fmod_(2)\n",
        "                \n",
        "                #if the bit was a 1, subtract the value corresponding to that bit to flip it to 0\n",
        "                #if the bit was a 0, add the value corresponding to that bit to flip it to 1\n",
        "                fault = torch.where(fault < 1, torch.empty(1, device=output.device).fill_(cb), \n",
        "                    torch.empty(1, device=output.device).fill_(-cb))\n",
        "                \n",
        "                \n",
        "                #apply flip only to 'thres' fraction of elements using generated mask\n",
        "                fault *= uniform\n",
        "                # return output with added flips and appropriate sign\n",
        "                output += fault * sign\n",
        "          \n",
        "          for b in range(-1,-1*qf - 1, -1): \n",
        "            uniform, nonzero = self.rng_subsys.generate()\n",
        "            if nonzero:\n",
        "                cb = 2 ** b\n",
        "                # Isolate the value to be modified based on given bit position by shift and mod\n",
        "                fault = output / cb\n",
        "                fault.abs_().fmod_(2)\n",
        "\n",
        "                #if the bit was a 1, subtract the value corresponding to that bit to flip it to 0\n",
        "                #if the bit was a 0, add the value corresponding to that bit to flip it to 1\n",
        "                fault_sw = torch.where(fault < 1, torch.empty(1, device=output.device).fill_(cb), \n",
        "                    torch.empty(1, device=output.device).fill_(-cb))\n",
        "\n",
        "                #apply flip only to 'thres' fraction of elements using generated mask\n",
        "                fault_sw *= uniform\n",
        "\n",
        "                # return output with added flips and appropriate sign\n",
        "                output += fault_sw * sign\n",
        "          \n",
        "          #flip sign bit after other bit flips, in case a zero got hit above\n",
        "          \n",
        "          if qi > 0: # is there a sign bit to flip?\n",
        "            uniform, nonzero = self.rng_subsys.generate()\n",
        "            if nonzero:\n",
        "                  sign = (output.sign() *2 + 1).sign()\n",
        "                  fault = torch.where(uniform == 1, torch.empty(1, device=output.device).fill_(1 + 2 ** (self.int_bits-1)), torch.zeros(1, device=output.device))\n",
        "                  fault *= sign\n",
        "                  #In 2s comp (assumed for weights), sign bit flipping is equivalent to adding/subtracting the max representable val \n",
        "                  output.sub_(fault)\n",
        "          \n",
        "\n",
        "        def _inject(w):   #CONVERTED TO HERE\n",
        "            addrs       = list(range(len(w)))\n",
        "            if self.random_addrs:\n",
        "              np.random.shuffle(addrs)\n",
        "\n",
        "            num_faults = int(len(w) * self.total_bits * self.frac)\n",
        "            #print(\"There are %d weights /n\", len(w))\n",
        "            #print(\"There will be %d bit flips /n\", num_faults)\n",
        "            # Generating random values with np.random (vectorized) is must faster\n",
        "            # than python random.random\n",
        "            faults = None\n",
        "            if self.fault_type == \"uniform\":\n",
        "              min_w   = np.min(w)\n",
        "              max_w   = np.max(w)\n",
        "              faults = np.random.uniform(min_w, max_w, num_faults)\n",
        "            elif self.fault_type == \"normal\":\n",
        "              mean, sigma = np.mean(w), np.std(w)\n",
        "              faults = np.random.normal(mean, sigma, num_faults)\n",
        "            elif self.fault_type == \"sign\":\n",
        "              # -1 means flip sign, 1 means maintain sign.\n",
        "              # 50% chance of flipping sign\n",
        "              faults = np.random.choice([-1, 1], num_faults)\n",
        "              for i in range(num_faults):\n",
        "                faults[i] = faults[i] * w[i]\n",
        "            elif self.fault_type == \"percent\":\n",
        "              #-1 means increase by percent, 1 means decrease by percent\n",
        "              #just set at 10% changes for now\n",
        "              percent = 0.1\n",
        "              faults = np.random.choice([-1,1], num_faults)\n",
        "              for i in range(num_faults):\n",
        "                faults[i] = w[i] * (1 + (faults[i] * percent))\n",
        "            elif self.fault_type == \"bit\":\n",
        "              # Eventually we should make sure we're not hitting the same bit.\n",
        "              #  fine for now though\n",
        "              bit_inject(w, self.frac, (self.int_bits, self.frac_bits))\n",
        "            else:\n",
        "              assert False, \"Fault type: %s is invalid\" % self.fault_type\n",
        "\n",
        "            if self.fault_type == \"bit\":\n",
        "              pass\n",
        "              #print(\"Already updated.\")\n",
        "            else:\n",
        "              if num_faults > 0:\n",
        "                fault_addrs = addrs[:num_faults]\n",
        "                for i in range(num_faults):\n",
        "                  w[i] = faults[i]\n",
        "\n",
        "            return w\n",
        "\n",
        "      ########################################\n",
        "        size = w.size()\n",
        "        w = w.flatten()\n",
        "        return _inject(w).view(size)\n",
        "    self.transform_weights(model, fault_wrapper)\n"
      ]
    },
    {
      "cell_type": "markdown",
      "metadata": {
        "id": "YHjLRSN8Q2XM"
      },
      "source": [
        "# Threshold Fine-Tuning Algorithm"
      ]
    },
    {
      "cell_type": "code",
      "execution_count": null,
      "metadata": {
        "id": "OnqAUCkSSUtz"
      },
      "outputs": [],
      "source": [
        "def model_evaluation(model, layer, T, fault_rate):\n",
        "    # evaluate on the validation set\n",
        "    with torch.no_grad():\n",
        "        correct = 0\n",
        "        total = 0\n",
        "        for inputs, labels in val_loader:\n",
        "            outputs = model(inputs, layer, T)\n",
        "            _, predicted = torch.max(outputs.data, 1)\n",
        "            total += labels.size(0)\n",
        "            correct += (predicted == labels).sum().item()\n",
        "        acc = correct / total\n",
        "        return acc\n",
        "\n",
        "\n",
        "def AUC_calculation(S_min, S_max, layer, model):\n",
        "    T1 = S_min\n",
        "    T2 = T1 + (S_max - S_min) / 3\n",
        "    T3 = T2 + (S_max - S_min) / 3\n",
        "    T4 = S_max\n",
        "    Ts = [T1, T2, T3, T4]\n",
        "    AUCs = []\n",
        "    layer_mask = [True for layer in get_layers(model)]\n",
        "    fault_rates = [1e-8, 1e-5]\n",
        "    for i in range(1, 5):\n",
        "        accs = []\n",
        "        for fault_rate in fault_rates:\n",
        "            model_temp = model\n",
        "            random_fault_injector = RandomFault(layer_mask, frac=fault_rate, random_addrs=True, fault_type='bit')\n",
        "            random_fault_injector(model)\n",
        "            accs.append(model_evaluation(model, layer, Ts[i-1], fault_rate))\n",
        "            model_temp.thresholds = model.thresholds\n",
        "            model = model_temp\n",
        "\n",
        "        AUCs.append(AUC(accs, fault_rates))\n",
        "        print(f\"{i}st calculated T: Accuracies: {accs}, AUC: {AUCs[-1]}\")\n",
        "    return Ts, AUCs\n",
        "\n",
        "def internal_search(Ts, AUCs):\n",
        "    index = np.argmax(AUCs)\n",
        "    if index == 3:\n",
        "        S = (Ts[2], Ts[3])\n",
        "    elif index == 1:\n",
        "        S = (Ts[0], Ts[1])\n",
        "    else:\n",
        "        S = (Ts[index-2], Ts[index])\n",
        "    T = Ts[index]\n",
        "    return S, T  \n",
        "\n",
        "# for each layer of networks\n",
        "def threshold_fine_tuning(N, M, delta, ACT_max, layer, model):\n",
        "    counter = 1\n",
        "    while counter <= N:\n",
        "        print(\"Counter: \", counter)\n",
        "        if counter == 1:\n",
        "            S = (0, ACT_max)\n",
        "            Ts, AUCs = AUC_calculation(S[0], S[1], layer, model)\n",
        "            S, T = internal_search(Ts, AUCs)\n",
        "        else:\n",
        "            S, T = internal_search(Ts, AUCs)\n",
        "            Ts, AUCs = AUC_calculation(S[0], S[1], layer, model)\n",
        "        counter += 1\n",
        "        deltas = [0, 0, 0]\n",
        "        for i in [1, 2, 3]:\n",
        "            deltas[i-1] = abs(AUCs[i] - AUCs[i-1])\n",
        "        if max(deltas) <= delta and counter >= M:\n",
        "            return T\n",
        "    return T "
      ]
    },
    {
      "cell_type": "markdown",
      "metadata": {
        "id": "RQqTVIB8l2ye"
      },
      "source": [
        "# VGG16"
      ]
    },
    {
      "cell_type": "code",
      "execution_count": null,
      "metadata": {
        "colab": {
          "base_uri": "https://localhost:8080/"
        },
        "id": "Tfj7Crvw8IX6",
        "outputId": "ce4bd1df-5a26-472a-ec66-6060ce51d142"
      },
      "outputs": [
        {
          "name": "stderr",
          "output_type": "stream",
          "text": [
            "Downloading: \"https://download.pytorch.org/models/vgg16-397923af.pth\" to /root/.cache/torch/hub/checkpoints/vgg16-397923af.pth\n"
          ]
        }
      ],
      "source": [
        "class VGG16(nn.Module):\n",
        "    def __init__(self, num_classes: int = 1000, T=math.inf):\n",
        "        super(VGG16, self).__init__()\n",
        "        self.thresholds = [math.inf] * 15   \n",
        "        self.features = nn.Sequential(\n",
        "            nn.Conv2d(3, 64, 3, padding=1),  # Conv1\n",
        "            CReLU(self.thresholds[0]),\n",
        "            nn.Conv2d(64, 64, 3, padding=1),  # Conv2\n",
        "            CReLU(self.thresholds[1]),\n",
        "            nn.MaxPool2d(2, 2),  # Pool1\n",
        "            nn.Conv2d(64, 128, 3, padding=1),  # Conv3\n",
        "            CReLU(self.thresholds[2]),\n",
        "            nn.Conv2d(128, 128, 3, padding=1),  # Conv4\n",
        "            CReLU(self.thresholds[3]),\n",
        "            nn.MaxPool2d(2, 2),  # Pool2\n",
        "            nn.Conv2d(128, 256, 3, padding=1),  # Conv5\n",
        "            CReLU(self.thresholds[4]),\n",
        "            nn.Conv2d(256, 256, 3, padding=1),  # Conv6\n",
        "            CReLU(self.thresholds[5]),\n",
        "            nn.Conv2d(256, 256, 3, padding=1),  # Conv7\n",
        "            CReLU(self.thresholds[6]),\n",
        "            nn.MaxPool2d(2, 2),  # Pool3\n",
        "            nn.Conv2d(256, 512, 3, padding=1),  # Conv8\n",
        "            CReLU(self.thresholds[7]),\n",
        "            nn.Conv2d(512, 512, 3, padding=1),  # Conv9\n",
        "            CReLU(self.thresholds[8]),\n",
        "            nn.Conv2d(512, 512, 3, padding=1),  # Conv10\n",
        "            CReLU(self.thresholds[9]),\n",
        "            nn.MaxPool2d(2, 2),  # Pool4\n",
        "            nn.Conv2d(512, 512, 3, padding=1),  # Conv11\n",
        "            CReLU(self.thresholds[10]),\n",
        "            nn.Conv2d(512, 512, 3, padding=1),  # Conv12\n",
        "            CReLU(self.thresholds[11]),\n",
        "            nn.Conv2d(512, 512, 3, padding=1),  # Conv13\n",
        "            CReLU(self.thresholds[12]),\n",
        "            nn.MaxPool2d(2, 2)  # Pool5\n",
        "        )\n",
        "        self.avgpool = nn.AdaptiveAvgPool2d((7, 7))\n",
        "\n",
        "        # TODO: In the paper, it is mentioned that this has 1 FC, but VGG16 has 2 FC in fact :?\n",
        "        self.classifier = nn.Sequential(\n",
        "            nn.Linear(512 * 7 * 7, 4096),\n",
        "            CReLU(self.thresholds[13]),\n",
        "            nn.Dropout(),\n",
        "            nn.Linear(4096, 4096),\n",
        "            CReLU(self.thresholds[14]),\n",
        "            nn.Dropout(),\n",
        "            nn.Linear(4096, num_classes),\n",
        "        )\n",
        "\n",
        "    def forward(self, x: torch.Tensor, layer, threshold, test=False) -> torch.Tensor:\n",
        "        if not test:\n",
        "            self.thresholds[layer] = threshold\n",
        "        x = self.features(x)\n",
        "        x = self.avgpool(x)\n",
        "        x = torch.flatten(x, 1)\n",
        "        x = self.classifier(x)\n",
        "        return x\n",
        "\n",
        "vgg16 = VGG16()\n",
        "checkpoint = 'https://download.pytorch.org/models/vgg16-397923af.pth'\n",
        "vgg16.load_state_dict(torch.hub.load_state_dict_from_url(checkpoint, progress=False))\n",
        "# print(vgg16)\n",
        "vgg16.classifier[6] = nn.Linear(4096, 10)"
      ]
    },
    {
      "cell_type": "code",
      "execution_count": null,
      "metadata": {
        "colab": {
          "background_save": true,
          "base_uri": "https://localhost:8080/"
        },
        "id": "lqLj8SpG8ZJs",
        "outputId": "473e8079-dec0-4ceb-aa6d-3ed2a68c3b7f"
      },
      "outputs": [
        {
          "name": "stdout",
          "output_type": "stream",
          "text": [
            "Layer 0\n",
            "Counter:  1\n",
            "1st calculated T: Accuracies: [0.089, 0.09], AUC: 0.08950000256299973\n",
            "2st calculated T: Accuracies: [0.091, 0.095], AUC: 0.09299999475479126\n",
            "3st calculated T: Accuracies: [0.094, 0.087], AUC: 0.09049999713897705\n",
            "4st calculated T: Accuracies: [0.082, 0.101], AUC: 0.09149999916553497\n",
            "Layer 1\n",
            "Counter:  1\n",
            "1st calculated T: Accuracies: [0.1, 0.113], AUC: 0.10649999976158142\n",
            "2st calculated T: Accuracies: [0.116, 0.097], AUC: 0.10649999976158142\n",
            "3st calculated T: Accuracies: [0.092, 0.095], AUC: 0.09350000321865082\n",
            "4st calculated T: Accuracies: [0.097, 0.085], AUC: 0.09100000560283661\n",
            "Layer 2\n",
            "Counter:  1\n",
            "1st calculated T: Accuracies: [0.107, 0.106], AUC: 0.10649999976158142\n",
            "2st calculated T: Accuracies: [0.099, 0.115], AUC: 0.10700000077486038\n",
            "3st calculated T: Accuracies: [0.095, 0.095], AUC: 0.0949999988079071\n",
            "4st calculated T: Accuracies: [0.102, 0.102], AUC: 0.10199999809265137\n",
            "Layer 3\n",
            "Counter:  1\n",
            "1st calculated T: Accuracies: [0.091, 0.1], AUC: 0.09549999982118607\n",
            "2st calculated T: Accuracies: [0.112, 0.093], AUC: 0.10250000655651093\n",
            "3st calculated T: Accuracies: [0.099, 0.081], AUC: 0.09000000357627869\n",
            "4st calculated T: Accuracies: [0.097, 0.081], AUC: 0.08900000154972076\n",
            "Layer 4\n",
            "Counter:  1\n",
            "1st calculated T: Accuracies: [0.091, 0.108], AUC: 0.09950000047683716\n",
            "2st calculated T: Accuracies: [0.106, 0.078], AUC: 0.09200000017881393\n",
            "3st calculated T: Accuracies: [0.097, 0.1], AUC: 0.09849999845027924\n",
            "4st calculated T: Accuracies: [0.114, 0.099], AUC: 0.10649999976158142\n",
            "Layer 5\n",
            "Counter:  1\n",
            "1st calculated T: Accuracies: [0.091, 0.109], AUC: 0.09999999403953552\n",
            "2st calculated T: Accuracies: [0.087, 0.113], AUC: 0.09999999403953552\n",
            "3st calculated T: Accuracies: [0.111, 0.118], AUC: 0.1145000010728836\n",
            "4st calculated T: Accuracies: [0.106, 0.105], AUC: 0.1054999977350235\n",
            "Layer 6\n",
            "Counter:  1\n",
            "1st calculated T: Accuracies: [0.094, 0.105], AUC: 0.09950000047683716\n",
            "2st calculated T: Accuracies: [0.119, 0.11], AUC: 0.1145000010728836\n",
            "3st calculated T: Accuracies: [0.115, 0.094], AUC: 0.10449999570846558\n",
            "4st calculated T: Accuracies: [0.108, 0.109], AUC: 0.10850000381469727\n",
            "Layer 7\n",
            "Counter:  1\n",
            "1st calculated T: Accuracies: [0.107, 0.098], AUC: 0.10249999910593033\n"
          ]
        }
      ],
      "source": [
        "ACT_max = []\n",
        "for name, param in vgg16.named_parameters():\n",
        "    if \"weight\" in name:\n",
        "        ACT_max.append(torch.max(param).item())\n",
        "\n",
        "#print(ACT_max)\n",
        "\n",
        "thresholds = []\n",
        "accuracies = []\n",
        "for layer, act in enumerate(ACT_max):\n",
        "    print(f\"Layer {layer}\")\n",
        "    #print(f\"Layer {act}\")\n",
        "    thresholds.append(threshold_fine_tuning(1, 1, 1e-4, act, layer, vgg16))"
      ]
    },
    {
      "cell_type": "markdown",
      "metadata": {
        "id": "yEBJWVh1oS6P"
      },
      "source": [
        "## Evaluation"
      ]
    },
    {
      "cell_type": "code",
      "execution_count": null,
      "metadata": {
        "colab": {
          "base_uri": "https://localhost:8080/",
          "height": 130
        },
        "id": "83MSaL8AUr80",
        "outputId": "035673ae-950b-4b3c-b32f-949f59eb493c"
      },
      "outputs": [
        {
          "ename": "SyntaxError",
          "evalue": "ignored",
          "output_type": "error",
          "traceback": [
            "\u001b[0;36m  File \u001b[0;32m\"<ipython-input-1-49ca14a75f4d>\"\u001b[0;36m, line \u001b[0;32m25\u001b[0m\n\u001b[0;31m    for f in fault_rates\u001b[0m\n\u001b[0m                        ^\u001b[0m\n\u001b[0;31mSyntaxError\u001b[0m\u001b[0;31m:\u001b[0m invalid syntax\n"
          ]
        }
      ],
      "source": [
        "def model_test_evaluation(model):\n",
        "    # evaluate on the test set\n",
        "    with torch.no_grad():\n",
        "        correct = 0\n",
        "        total = 0\n",
        "        for inputs, labels in test_loader:\n",
        "            outputs = model(inputs, 0, 0, test=True)\n",
        "            _, predicted = torch.max(outputs.data, 1)\n",
        "            total += labels.size(0)\n",
        "            correct += (predicted == labels).sum().item()\n",
        "        acc = correct / total\n",
        "        return acc\n",
        "\n",
        "\n",
        "#model_test_evaluation(vgg16)\n",
        "experiments = 1 # this should have been 50, but duo to GPU limits and time limitations changed :)\n",
        "exps_p_accs = []\n",
        "exps_up_accs = []\n",
        "\n",
        "\n",
        "\n",
        "\n",
        "\n",
        "for experiment in range(experiments):\n",
        "    print(f\"{experiment + 1}st experiment\")\n",
        "    protected_acc = []\n",
        "    unprotected_acc = []\n",
        "\n",
        "    fault_rates = [1e-8, 1e-5]\n",
        "    layer_mask = [True for layer in get_layers(vgg16)]\n",
        "\n",
        "    # protected\n",
        "    print(\"Evaluating protected network...\")\n",
        "    for f in fault_rates:\n",
        "        model_temp = vgg16\n",
        "        random_fault_injector = RandomFault(layer_mask, frac=f, random_addrs=True, fault_type='bit')\n",
        "        random_fault_injector(vgg16)\n",
        "        exps_p_accs.append(model_test_evaluation(vgg16))\n",
        "        model_temp.thresholds = vgg16.thresholds\n",
        "        vgg16 = model_temp\n",
        "        print(f\"\\t\\tFault rate = {f} Done !\")\n",
        "    \n",
        "    exps_p_accs.append(protected_acc)\n",
        "\n",
        "    # unprotected\n",
        "    print(\"Evaluating unprotected network...\")\n",
        "    vgg16.thresholds = [math.inf] * 15 \n",
        "    for f in fault_rates:\n",
        "        model_temp = vgg16\n",
        "        random_fault_injector = RandomFault(layer_mask, frac=f, random_addrs=True, fault_type='bit')\n",
        "        random_fault_injector(vgg16)\n",
        "        exps_up_accs.append(model_test_evaluation(vgg16))\n",
        "        model_temp.thresholds = vgg16.thresholds\n",
        "        vgg16 = model_temp\n",
        "        print(f\"\\t\\tFault rate = {f} Done !\")\n",
        "\n",
        "    exps_up_accs.append(unprotected_acc)\n"
      ]
    },
    {
      "cell_type": "code",
      "execution_count": null,
      "metadata": {
        "id": "MnffW8Gf8r5H"
      },
      "outputs": [],
      "source": [
        "fig, axes = plt.subplots(1, 3)\n",
        "fig.set_figwidth(15)\n",
        "fig.set_figheight(5)\n",
        "\n",
        "\n",
        "# plt.setp(axes, xticks=fault_rates, xticklabels=fault_rates)\n",
        "\n",
        "axes[0].plot(fault_rates, np.mean(exps_p_accs, axis=0), color=\"r\", label=\"Resilient DNN using the proposed methodology\")\n",
        "axes[0].plot(fault_rates, np.mean(exps_up_accs, axis=0), color=\"b\", label=\"Unprotected DNN\")\n",
        "axes[0].set_xlabel(\"Fault rate\")\n",
        "axes[0].set_ylabel(\"Classification accuracy\")\n",
        "axes[0].legend()\n",
        "\n",
        "axes[1].boxplot(np.array(exps_p_accs).T.tolist())\n",
        "axes[1].set_xlabel(\"Fault rate\")\n",
        "axes[1].set_ylabel(\"Classification accuracy\")\n",
        "axes[1].set_title(\"Protected Network\")\n",
        "    \n",
        "axes[2].boxplot(np.array(exps_up_accs).T.tolist())\n",
        "axes[2].set_xlabel(\"Fault rate\")\n",
        "axes[2].set_ylabel(\"Classification accuracy\")\n",
        "axes[2].set_title(\"UNProtected Network\")\n",
        "\n",
        "fig.tight_layout()\n"
      ]
    },
    {
      "cell_type": "code",
      "execution_count": null,
      "metadata": {
        "id": "y602TLD4BDkj"
      },
      "outputs": [],
      "source": [
        ""
      ]
    }
  ],
  "metadata": {
    "accelerator": "GPU",
    "colab": {
      "collapsed_sections": [
        "MWkAsEPzl5au",
        "XQLf6I59KSIF",
        "muFe_h0AB_z2",
        "D8cJ2IOuXz_y",
        "YHjLRSN8Q2XM"
      ],
      "name": "VGG16_first_8th_layers.ipynb",
      "provenance": []
    },
    "kernelspec": {
      "display_name": "Python 3",
      "name": "python3"
    },
    "language_info": {
      "name": "python"
    }
  },
  "nbformat": 4,
  "nbformat_minor": 0
}